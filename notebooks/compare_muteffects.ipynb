{
 "cells": [
  {
   "cell_type": "markdown",
   "id": "c678dd4e-3f64-46cf-90ce-11d33d624d36",
   "metadata": {},
   "source": [
    "# Compare functional effects of mutations to other data\n",
    "\n",
    "This notebook compares the functional effects of mutations measured in the deep mutational scanning (on the latent phenotype) to several other sources of data:\n",
    "\n",
    " - The effects of mutations on expression and pre-fusion stability in a region of S2 as measured by [Tan, ..., Wu](https://www.biorxiv.org/content/10.1101/2022.09.24.509341v1). \n",
    " - The effects of mutations on NTD expression as measured by [Ouyang, ..., Wu](https://www.biorxiv.org/content/10.1101/2022.06.20.496903v1.full).\n",
    " - The effects of mutations on ACE2 affinity in the RBD as measured by [Starr, ..., Bloom](https://www.biorxiv.org/content/10.1101/2022.09.20.508745v1.full)\n",
    " - The number of counts of mutations in the `UShER` tree compared to that expected from the underlying mutation rate, as computed at [https://github.com/jbloomlab/SARS2-mut-rates](https://github.com/jbloomlab/SARS2-mut-rates)\n",
    " \n",
    "First, import Python modules:"
   ]
  },
  {
   "cell_type": "code",
   "execution_count": null,
   "id": "7f466794-9d21-41be-8d11-adfa2e53d0dc",
   "metadata": {
    "tags": []
   },
   "outputs": [],
   "source": [
    "import itertools\n",
    "import os\n",
    "import warnings\n",
    "\n",
    "import altair as alt\n",
    "\n",
    "import numpy\n",
    "\n",
    "import pandas as pd\n",
    "\n",
    "import scipy\n",
    "\n",
    "import yaml\n",
    "\n",
    "\n",
    "_ = alt.data_transformers.disable_max_rows()\n",
    "\n",
    "warnings.filterwarnings(\"ignore\", category=FutureWarning)  # altair deprecation warning"
   ]
  },
  {
   "cell_type": "markdown",
   "id": "89357496-f7dd-4062-bf47-5239b39fdb72",
   "metadata": {},
   "source": [
    "Read the configuration:"
   ]
  },
  {
   "cell_type": "code",
   "execution_count": null,
   "id": "56331b33-d010-43a0-ad0d-4139312448ef",
   "metadata": {
    "tags": []
   },
   "outputs": [],
   "source": [
    "# to run interactively, need the following\n",
    "# os.chdir(\"../\")\n",
    "\n",
    "with open(\"config.yaml\") as f:\n",
    "    config = yaml.safe_load(f)"
   ]
  },
  {
   "cell_type": "markdown",
   "id": "1631a874-6a0e-4873-a129-726a98f556c6",
   "metadata": {},
   "source": [
    "## Get the data to compare\n",
    "\n",
    "Read the Tan et al S2 prefusion data:"
   ]
  },
  {
   "cell_type": "code",
   "execution_count": null,
   "id": "3a290bf4-5fda-4550-9f29-e7ca2a926a06",
   "metadata": {
    "tags": []
   },
   "outputs": [],
   "source": [
    "# rename columns in this way\n",
    "prefusion_tan_columns = {\n",
    "    \"mut\": \"mutation\",\n",
    "    \"exp_score\": \"S2 expression score (Tan et al)\",\n",
    "    \"fus_score\": \"S2 fusion score (Tan et al)\",\n",
    "}\n",
    "\n",
    "# read prefusion data\n",
    "print(f\"Reading data from {config['prefusion_Tan_excel']}\")\n",
    "prefusion_tan = (\n",
    "    pd.read_excel(config[\"prefusion_Tan_excel\"])\n",
    "    .query(\"mut_class == 'missense'\")\n",
    "    [prefusion_tan_columns.keys()]\n",
    "    .rename(columns=prefusion_tan_columns)\n",
    ")\n",
    "    \n",
    "\n",
    "prefusion_tan"
   ]
  },
  {
   "cell_type": "markdown",
   "id": "d8650543-ac27-4d7c-ad1d-cf518b53f7e9",
   "metadata": {},
   "source": [
    "Read Ouyang et al NTD data:"
   ]
  },
  {
   "cell_type": "code",
   "execution_count": null,
   "id": "6979f3ce-7e8b-4ae2-8fa0-5200256a9d65",
   "metadata": {
    "tags": []
   },
   "outputs": [],
   "source": [
    "ntd_ouyang_columns = {\n",
    "    \"mut\": \"mutation\",\n",
    "    \"Exp_score\": \"NTD expression score (Ouyang et al)\",\n",
    "}\n",
    "\n",
    "print(f\"Reading data from {config['ntd_Ouyang']}\")\n",
    "ntd_ouyang = (\n",
    "    pd.read_csv(config[\"ntd_Ouyang\"], sep=\"\\t\")\n",
    "    .query(\"mut_class == 'missense'\")\n",
    "    .query(\"avg_total_freq >= 0.000075\")  # QC cutoff in paper\n",
    "    [ntd_ouyang_columns.keys()]\n",
    "    .rename(columns=ntd_ouyang_columns)\n",
    "    .reset_index(drop=True)\n",
    ")\n",
    "\n",
    "ntd_ouyang"
   ]
  },
  {
   "cell_type": "markdown",
   "id": "0dae4fbb-a876-44ea-abce-72e626227001",
   "metadata": {
    "execution": {
     "iopub.execute_input": "2022-09-30T13:28:38.125243Z",
     "iopub.status.busy": "2022-09-30T13:28:38.124649Z",
     "iopub.status.idle": "2022-09-30T13:28:38.134090Z",
     "shell.execute_reply": "2022-09-30T13:28:38.132834Z",
     "shell.execute_reply.started": "2022-09-30T13:28:38.125198Z"
    },
    "tags": []
   },
   "source": [
    "Read the Starr et al RBD deep mutational scanning:"
   ]
  },
  {
   "cell_type": "code",
   "execution_count": null,
   "id": "92aaa2b9-7141-4e6c-b73d-11d4ed835eda",
   "metadata": {
    "tags": []
   },
   "outputs": [],
   "source": [
    "# rename columns in this way\n",
    "rbd_dms_starr_columns = {\n",
    "    \"mutation\": \"mutation\",\n",
    "    \"delta_bind\": \"RBD ACE2 affinity (Starr et al)\",\n",
    "    \"delta_expr\": \"RBD expression (Starr et al)\",\n",
    "}\n",
    "\n",
    "# read the data\n",
    "target = config[\"rbd_dms_Starr_target\"]\n",
    "print(f\"Reading data from {config['rbd_dms_Starr']} for target {target}\")\n",
    "rbd_dms_starr = (\n",
    "    pd.read_csv(config[\"rbd_dms_Starr\"])\n",
    "    .query(\"target == @target\")\n",
    "    [rbd_dms_starr_columns.keys()]\n",
    "    .rename(columns=rbd_dms_starr_columns)\n",
    ")\n",
    "\n",
    "rbd_dms_starr"
   ]
  },
  {
   "cell_type": "markdown",
   "id": "8c2dc460-60ba-4a9b-b2d9-ca7eeb2bdf74",
   "metadata": {},
   "source": [
    "Read the mutation effects on the observed phenotype as measured in the current project.\n",
    "Use reference site numbering and only get amino-acid mutations not involving gaps or stop codons:"
   ]
  },
  {
   "cell_type": "code",
   "execution_count": null,
   "id": "b8463113-884e-4b34-8465-99ff1cee5936",
   "metadata": {
    "tags": []
   },
   "outputs": [],
   "source": [
    "times_seen = config[\"muteffects_plot_kwargs\"][\"addtl_slider_stats\"][\"times_seen\"]\n",
    "\n",
    "print(f\"Reading muteffects from {config['muteffects_observed']}\")\n",
    "print(f\"Only keeping those with times_seen >= {times_seen}\")\n",
    "\n",
    "muteffects = (\n",
    "    pd.read_csv(config[\"muteffects_observed\"])\n",
    "    .query(\"wildtype != mutant\")\n",
    "    .query(\"(wildtype not in ['-', '*']) and (mutant not in ['-', '*'])\")\n",
    "    .query(\"times_seen >= @times_seen\")\n",
    "    .assign(\n",
    "        mutation=lambda x: x[\"wildtype\"] + x[\"reference_site\"].astype(str) + x[\"mutant\"],\n",
    "    )\n",
    "    .rename(columns={\"effect\": \"effect in DMS (current study)\"})\n",
    "    .reset_index(drop=True)\n",
    "    [[\"mutation\", \"effect in DMS (current study)\", \"times_seen\"]]\n",
    ")\n",
    "\n",
    "muteffects"
   ]
  },
  {
   "cell_type": "markdown",
   "id": "1fd61c82-367d-4fc7-a353-76348cb2ce5c",
   "metadata": {},
   "source": [
    "Read the natural counts of mutations (from `UShER` tree), aggregate by amino-acid mutation (they are initially by codon mutation), and compute the `log_2` enrichment of observed versus actual counts after adding a pseudocount:"
   ]
  },
  {
   "cell_type": "code",
   "execution_count": null,
   "id": "3d58af01-5913-4c22-8ea1-79025b3ebc15",
   "metadata": {
    "tags": []
   },
   "outputs": [],
   "source": [
    "actual_vs_expected = pd.read_csv(config[\"actual_vs_expected_mut_counts\"], low_memory=False)\n",
    "\n",
    "clades = config[\"actual_vs_expected_clades\"]\n",
    "if clades == \"all\":\n",
    "    clades = actual_vs_expected[\"clade\"].unique().tolist()\n",
    "\n",
    "pseudocount = config[\"actual_vs_expected_pseudocount\"]\n",
    "min_expected = config[\"actual_vs_expected_min_expected\"]\n",
    "\n",
    "print(f\"Reading mutation counts in {config['actual_vs_expected_mut_counts']}\")\n",
    "print(f\"Using counts for these clades: {clades}\")\n",
    "print(f\"Computing log2 enrichments using pseudocount of {pseudocount}\")\n",
    "print(f\"Flagging to retain only mutations with >= {min_expected} expected counts\")\n",
    "\n",
    "actual_vs_expected = (\n",
    "    actual_vs_expected\n",
    "    .query(\"subset == 'all'\")  # use sequences from all location\n",
    "    .query(\"clade in @clades\")  # get just the clade of interest\n",
    "    .query(\"not exclude\")  # ignore mutation specified to be excluded\n",
    "    .query(\"gene == 'S'\")  # just look at spike\n",
    "    .query(\"not synonymous\")  # just look at amino-acid mutations\n",
    "    .query(\"mutant_aa != '*'\")  # just look at amino-acid (not stop codon) mutations\n",
    "    .groupby(\"aa_mutation\", as_index=False)\n",
    "    .aggregate({\"actual_count\": \"sum\", \"expected_count\": \"sum\"})\n",
    "    .assign(\n",
    "        log2_enrichment=lambda x: numpy.log(\n",
    "            (x[\"actual_count\"] + pseudocount) / (x[\"expected_count\"] + pseudocount)\n",
    "        ) / numpy.log(2),\n",
    "        adequate_expected_counts=lambda x: x[\"expected_count\"] >= min_expected,\n",
    "    )\n",
    "    .reset_index(drop=True)\n",
    ")"
   ]
  },
  {
   "cell_type": "markdown",
   "id": "bec7ce3c-2ac4-4de1-a749-778ea564057e",
   "metadata": {
    "execution": {
     "iopub.execute_input": "2022-09-30T21:38:57.265000Z",
     "iopub.status.busy": "2022-09-30T21:38:57.264416Z",
     "iopub.status.idle": "2022-09-30T21:38:57.282569Z",
     "shell.execute_reply": "2022-09-30T21:38:57.281587Z",
     "shell.execute_reply.started": "2022-09-30T21:38:57.264947Z"
    },
    "tags": []
   },
   "source": [
    "Plot the distribution of expected counts for all mutations, to choose a good cutoff for these:"
   ]
  },
  {
   "cell_type": "code",
   "execution_count": null,
   "id": "3ea5223b-38be-42b5-93a8-01ee943dde59",
   "metadata": {
    "tags": []
   },
   "outputs": [],
   "source": [
    "expected_chart = (\n",
    "    alt.Chart(\n",
    "        actual_vs_expected\n",
    "        .assign(\n",
    "            rank=lambda x: x[\"expected_count\"].rank(method=\"first\", ascending=False)\n",
    "        )\n",
    "    )\n",
    "    .encode(\n",
    "        x=alt.X(\"rank\", scale=alt.Scale(nice=False)),\n",
    "        y=\"expected_count\",\n",
    "        color=\"adequate_expected_counts\",\n",
    "        tooltip=actual_vs_expected.columns.tolist(),\n",
    "    )\n",
    "    .mark_circle()\n",
    "    .properties(height=200, width=500)\n",
    "    .configure_axis(grid=False)\n",
    ")\n",
    "\n",
    "expected_chart"
   ]
  },
  {
   "cell_type": "code",
   "execution_count": null,
   "id": "abc4562b-b9f7-4073-a6ec-ede2267f1ea1",
   "metadata": {
    "tags": []
   },
   "outputs": [],
   "source": [
    "enrichment_histogram = (\n",
    "    alt.Chart(actual_vs_expected)\n",
    "    .encode(\n",
    "        x=alt.X(\"log2_enrichment\", bin=alt.Bin(maxbins=20)),\n",
    "        y=\"count()\",\n",
    "        column=\"adequate_expected_counts\",\n",
    "        color=\"adequate_expected_counts\",\n",
    "    )\n",
    "    .mark_bar()\n",
    "    .properties(height=200, width=250)\n",
    ")\n",
    "\n",
    "enrichment_histogram"
   ]
  },
  {
   "cell_type": "markdown",
   "id": "e644c0df-4920-455e-965b-c20c648ee61a",
   "metadata": {},
   "source": [
    "Now get just the natural counts we are retaining:"
   ]
  },
  {
   "cell_type": "code",
   "execution_count": null,
   "id": "703a61a4-6f9c-45da-881d-6883021941c9",
   "metadata": {
    "tags": []
   },
   "outputs": [],
   "source": [
    "natural_enrichment = (\n",
    "    actual_vs_expected\n",
    "    .query(\"adequate_expected_counts\")\n",
    "    .drop(columns=\"adequate_expected_counts\")\n",
    "    .reset_index(drop=True)\n",
    "    .rename(\n",
    "        columns={\n",
    "            \"aa_mutation\": \"mutation\",\n",
    "            \"log2_enrichment\": \"natural sequence enrichment (log2)\",\n",
    "            \"actual_count\": \"natural sequence actual count\",\n",
    "            \"expected_count\": \"natural sequence expected count\",\n",
    "        }\n",
    "    )\n",
    ")\n",
    "\n",
    "natural_enrichment"
   ]
  },
  {
   "cell_type": "markdown",
   "id": "c349b92d-9220-4c28-b733-6371e0c73406",
   "metadata": {
    "tags": []
   },
   "source": [
    "## Compute correlations among mutational effects and other properties\n",
    "\n",
    "Correlate all experimental measures with each other.\n",
    "Here, each plot contains all the mutations that have measurement of the two variables of interest, so each scatter plot may have different mutations shown.\n",
    "The plots are interactive: you can mouse over points for details."
   ]
  },
  {
   "cell_type": "code",
   "execution_count": null,
   "id": "1deb559a-0f8c-4e26-acad-3dc3794ca151",
   "metadata": {
    "tags": []
   },
   "outputs": [],
   "source": [
    "# data frames and columns with variables to correlate\n",
    "dfs_to_correlate = [\n",
    "    (natural_enrichment, [\"natural sequence enrichment (log2)\"]),\n",
    "    (muteffects, [\"effect in DMS (current study)\"]),\n",
    "    (rbd_dms_starr, [\"RBD ACE2 affinity (Starr et al)\", \"RBD expression (Starr et al)\"]),\n",
    "    (ntd_ouyang, [\"NTD expression score (Ouyang et al)\"]),\n",
    "    (prefusion_tan, [\"S2 expression score (Tan et al)\", \"S2 fusion score (Tan et al)\"])\n",
    "]\n",
    "\n",
    "corr_charts = {}\n",
    "\n",
    "selection_mutation = alt.selection_single(\n",
    "    on=\"mouseover\", fields=[\"mutation\"], empty=\"none\",\n",
    ")\n",
    "\n",
    "for (df1, cols1), (df2, cols2) in itertools.combinations(dfs_to_correlate, 2):\n",
    "    \n",
    "    merged_df = df1.merge(df2, on=\"mutation\", validate=\"one_to_one\")\n",
    "    \n",
    "    for col1, col2 in itertools.product(cols1, cols2):\n",
    "        \n",
    "        n = len(merged_df[merged_df[col1].notnull() & merged_df[col2].notnull()])\n",
    "        \n",
    "        if not n:\n",
    "            continue\n",
    "        \n",
    "        r, p = scipy.stats.pearsonr(merged_df[col1], merged_df[col2])\n",
    "        \n",
    "        chart = (\n",
    "            alt.Chart(merged_df)\n",
    "            .encode(\n",
    "                x=alt.X(col2, axis=alt.Axis(grid=False)),\n",
    "                y=alt.Y(col1, axis=alt.Axis(grid=False)),\n",
    "                tooltip=[\n",
    "                    alt.Tooltip(c, format=\".3g\", title=c.replace(\"natural sequence \", \"\"))\n",
    "                    if merged_df[c].dtype == float\n",
    "                    else alt.Tooltip(c, title=c.replace(\"natural sequence \", \"\"))\n",
    "                    for c in merged_df.columns\n",
    "                ],\n",
    "                opacity=alt.condition(selection_mutation, alt.value(1), alt.value(0.15)),\n",
    "                color=alt.condition(selection_mutation, alt.value(\"orange\"), alt.value(\"black\")),\n",
    "                size=alt.condition(selection_mutation, alt.value(55), alt.value(35)),\n",
    "                strokeWidth=alt.condition(selection_mutation, alt.value(1.5), alt.value(0)),\n",
    "            )\n",
    "            .mark_circle(stroke=\"black\")\n",
    "            .properties(\n",
    "                title=alt.TitleParams(\n",
    "                    f\"R={r:.2g}, N={n}\", fontWeight=\"normal\", fontSize=11, offset=-1,\n",
    "                ),\n",
    "                width=170,\n",
    "                height=170,\n",
    "            )\n",
    "            .add_selection(selection_mutation)\n",
    "        )\n",
    "        \n",
    "        corr_charts[(col1, col2)] = chart"
   ]
  },
  {
   "cell_type": "markdown",
   "id": "897fbfda-f176-4876-96fa-17d01bc12aa6",
   "metadata": {},
   "source": [
    "Make a compound chart with all the correlation charts:"
   ]
  },
  {
   "cell_type": "code",
   "execution_count": null,
   "id": "d73f1ead-a341-44b4-a9b7-87373510af2b",
   "metadata": {
    "tags": []
   },
   "outputs": [],
   "source": [
    "charts_per_row = 4\n",
    "chart_rows = []\n",
    "for i in range(0, len(corr_charts), charts_per_row):\n",
    "    chart_rows.append(alt.hconcat(*list(corr_charts.values())[i: i + charts_per_row]))\n",
    "    \n",
    "all_charts = alt.vconcat(*chart_rows)\n",
    "\n",
    "print(f\"Saving to {config['natural_enrichment_vs_dms_plot']}\")\n",
    "all_charts.save(config[\"natural_enrichment_vs_dms_plot\"])\n",
    "\n",
    "all_charts"
   ]
  },
  {
   "cell_type": "markdown",
   "id": "d23c6bc0-c796-41ef-8e86-cf461493a5d2",
   "metadata": {},
   "source": [
    "Make chart with just correlation of natural sequence enrichment and experiments, and just experiments with each other:"
   ]
  },
  {
   "cell_type": "code",
   "execution_count": null,
   "id": "899e816b-626d-48b6-9208-0bb2a2f943db",
   "metadata": {
    "tags": []
   },
   "outputs": [],
   "source": [
    "ncols = 3\n",
    "\n",
    "for vs_natural in [True, False]:\n",
    "    print(f\"\\nCharts with {vs_natural=}\")\n",
    "    charts = [\n",
    "        chart for (col1, _), chart in corr_charts.items()\n",
    "        if col1.startswith(\"natural\") == vs_natural\n",
    "    ]\n",
    "    chart_rows = []\n",
    "    for i in range(0, len(charts), ncols):\n",
    "        chart_rows.append(alt.hconcat(*charts[i: i + ncols]))\n",
    "    chart = alt.vconcat(*chart_rows)\n",
    "    display(chart)"
   ]
  },
  {
   "cell_type": "markdown",
   "id": "b8e83687-0af9-46ab-af6c-727e46bc84bb",
   "metadata": {
    "execution": {
     "iopub.execute_input": "2022-10-01T12:57:36.225657Z",
     "iopub.status.busy": "2022-10-01T12:57:36.224734Z",
     "iopub.status.idle": "2022-10-01T12:57:36.291578Z",
     "shell.execute_reply": "2022-10-01T12:57:36.290756Z",
     "shell.execute_reply.started": "2022-10-01T12:57:36.225601Z"
    }
   },
   "source": [
    "## Chart with just mutations with RBD DMS\n",
    "Make a chart just with mutations having data on all of natural sequence enrichment, muteffects from the current DMS, and the Starr et al RBD DMS:"
   ]
  },
  {
   "cell_type": "code",
   "execution_count": null,
   "id": "7a792caa-f036-42d5-bd17-3d1c14fbb3dc",
   "metadata": {
    "tags": []
   },
   "outputs": [],
   "source": [
    "merged_rbd_df = (\n",
    "    muteffects\n",
    "    .merge(rbd_dms_starr, on=\"mutation\", validate=\"one_to_one\")\n",
    "    .merge(natural_enrichment, on=\"mutation\", validate=\"one_to_one\")\n",
    ")\n",
    "\n",
    "merged_rbd_cols = [\n",
    "    \"effect in DMS (current study)\",\n",
    "    \"RBD ACE2 affinity (Starr et al)\",\n",
    "    \"RBD expression (Starr et al)\",\n",
    "]\n",
    "\n",
    "n = len(merged_rbd_df)\n",
    "col1 = \"natural sequence enrichment (log2)\"\n",
    "\n",
    "rbd_charts = []\n",
    "for col2 in merged_rbd_cols:\n",
    "        \n",
    "    r, p = scipy.stats.pearsonr(merged_rbd_df[col1], merged_rbd_df[col2])\n",
    "        \n",
    "    rbd_charts.append(\n",
    "        alt.Chart(merged_rbd_df)\n",
    "        .encode(\n",
    "            x=alt.X(col2, axis=alt.Axis(grid=False)),\n",
    "            y=alt.Y(col1, axis=alt.Axis(grid=False)),\n",
    "            tooltip=[\n",
    "                alt.Tooltip(c, format=\".3g\", title=c.replace(\"natural sequence \", \"\"))\n",
    "                if merged_rbd_df[c].dtype == float\n",
    "                else alt.Tooltip(c, title=c.replace(\"natural sequence \", \"\"))\n",
    "                for c in merged_rbd_df.columns\n",
    "                ],\n",
    "            opacity=alt.condition(selection_mutation, alt.value(1), alt.value(0.2)),\n",
    "            size=alt.condition(selection_mutation, alt.value(55), alt.value(35)),\n",
    "            strokeWidth=alt.condition(selection_mutation, alt.value(1.5), alt.value(0)),\n",
    "        )\n",
    "        .mark_circle(stroke=\"black\")\n",
    "        .properties(\n",
    "            title=alt.TitleParams(\n",
    "                f\"R={r:.2g}, N={n}\", fontWeight=\"normal\", fontSize=11, offset=-1,\n",
    "            ),\n",
    "            width=170,\n",
    "            height=170,\n",
    "        )\n",
    "        .add_selection(selection_mutation)\n",
    "    )\n",
    "    \n",
    "rbd_chart = alt.hconcat(*rbd_charts)\n",
    "\n",
    "rbd_chart"
   ]
  },
  {
   "cell_type": "markdown",
   "id": "7582af5a-7e18-45a6-9a53-754179d83755",
   "metadata": {},
   "source": [
    "## Write data to correlate to a file"
   ]
  },
  {
   "cell_type": "code",
   "execution_count": null,
   "id": "f3cdbfff-a9fe-4bb5-b860-c9cefa488f74",
   "metadata": {
    "tags": []
   },
   "outputs": [],
   "source": [
    "all_dms_df = dfs_to_correlate[0][0]\n",
    "for df, _ in dfs_to_correlate[1: ]:\n",
    "    all_dms_df = all_dms_df.merge(df, on=\"mutation\", validate=\"one_to_one\", how=\"outer\")\n",
    "    \n",
    "print(f\"Writing to {config['natural_enrichment_vs_dms']}\")\n",
    "all_dms_df.to_csv(config[\"natural_enrichment_vs_dms\"], index=False, float_format=\"%.5g\")"
   ]
  }
 ],
 "metadata": {
  "kernelspec": {
   "display_name": "Python 3 (ipykernel)",
   "language": "python",
   "name": "python3"
  },
  "language_info": {
   "codemirror_mode": {
    "name": "ipython",
    "version": 3
   },
   "file_extension": ".py",
   "mimetype": "text/x-python",
   "name": "python",
   "nbconvert_exporter": "python",
   "pygments_lexer": "ipython3",
   "version": "3.9.13"
  }
 },
 "nbformat": 4,
 "nbformat_minor": 5
}
