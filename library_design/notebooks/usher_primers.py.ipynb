{
 "cells": [
  {
   "cell_type": "markdown",
   "metadata": {},
   "source": [
    "# Create primers for mutations in Usher data"
   ]
  },
  {
   "cell_type": "markdown",
   "metadata": {},
   "source": [
    "This notebooks takes Usher data, compared it to GISAID variant tables, filters it for higher frequency changes and creates primers for all usher sites."
   ]
  },
  {
   "cell_type": "code",
   "execution_count": null,
   "metadata": {},
   "outputs": [],
   "source": [
    "import pandas as pd\n",
    "from plotnine import *\n",
    "from Bio.SeqUtils import MeltingTemp as mt\n",
    "import statistics"
   ]
  },
  {
   "cell_type": "code",
   "execution_count": null,
   "metadata": {},
   "outputs": [],
   "source": [
    "usher_df = snakemake.input.usher_df\n",
    "reference_lookup = snakemake.input.reference_lookup\n",
    "gisaid_mutations = snakemake.input.gisaid_mutations\n",
    "usher_count_filter = snakemake.params.usher_count_filter\n",
    "codon_table = snakemake.input.codon_table\n",
    "spike_extended = snakemake.input.spike_extended\n",
    "create_primers_srcipt = snakemake.input.create_primers_srcipt\n",
    "\n",
    "new_usher_df_out = snakemake.output.new_usher_df_out\n",
    "usher_primers = snakemake.output.usher_primers"
   ]
  },
  {
   "cell_type": "code",
   "execution_count": null,
   "metadata": {},
   "outputs": [],
   "source": [
    "# usher_df = pd.read_csv (\"../results/spike_mutcounts.csv\")\n",
    "# reference_lookup = pd.read_csv(\"../reference_sequences/reference_sequence_position_lookup.csv\")\n",
    "# gisaid_mutations = pd.read_csv(\"../results/spike_alignment_counts.csv\")\n",
    "# usher_count_filter = 24\n",
    "# codon_table = \"../reference_sequences/homo_codon_freq_del.csv\"\n",
    "# spike_extended = \"../reference_sequences/Omicron_BA.1_extended_ends_for_primers.txt\"\n",
    "# create_primers_srcipt = '../scripts/create_primers_del.py'\n",
    "\n",
    "# new_usher_df_out = '../results/variant_usher_mutations.csv'\n",
    "# usher_primers = '../results/usher_primers.csv'"
   ]
  },
  {
   "cell_type": "code",
   "execution_count": null,
   "metadata": {},
   "outputs": [],
   "source": [
    "usher_df = pd.read_csv(usher_df)\n",
    "reference_lookup = pd.read_csv(reference_lookup)\n",
    "gisaid_mutations = pd.read_csv(gisaid_mutations)"
   ]
  },
  {
   "cell_type": "code",
   "execution_count": null,
   "metadata": {},
   "outputs": [],
   "source": [
    "#find duplicates for position and amino acid and sum n_mutations_to column if such duplicates exist\n",
    "usher_df = usher_df.groupby(['site','amino_acid']).agg({'n_mutations_to': 'sum'})\n",
    "usher_df.reset_index(inplace=True)\n"
   ]
  },
  {
   "cell_type": "markdown",
   "metadata": {},
   "source": [
    "## Compare GISAID and Usher data"
   ]
  },
  {
   "cell_type": "code",
   "execution_count": null,
   "metadata": {},
   "outputs": [],
   "source": [
    "#rename columns\n",
    "gisaid_mutations = gisaid_mutations.drop(columns=['wildtype'])\n",
    "gisaid_mutations = gisaid_mutations.rename(columns={\"mutant\": \"amino_acid\", \"count\": \"alignment_counts\"}).sort_values(by=['site']).reset_index(drop=True)\n",
    "# change deletion character\n",
    "gisaid_mutations['amino_acid'] = gisaid_mutations['amino_acid'].str.replace('del','-')\n",
    "# remove any mutations that are not single deletions\n",
    "gisaid_mutations = gisaid_mutations[gisaid_mutations['amino_acid'].str.len() == 1]\n"
   ]
  },
  {
   "cell_type": "markdown",
   "metadata": {},
   "source": [
    "First check if all mutations on usher are present in gisaid data, as usher should be a subset of GISAID."
   ]
  },
  {
   "cell_type": "code",
   "execution_count": null,
   "metadata": {},
   "outputs": [],
   "source": [
    "#merge reference_lookup and gisaid_mutations tables\n",
    "#remove GISAID mutations that are in variant spike already\n",
    "new_df = pd.merge(gisaid_mutations,\n",
    "                  reference_lookup,\n",
    "                  how='left',\n",
    "                  left_on=['site','amino_acid'],\n",
    "                  right_on = ['parent_pos','parent_seq'],\n",
    "                  indicator=True)\n",
    "\n",
    "#filter on amino acids not already present in variant\n",
    "new_df_noWU = new_df.loc[(new_df['_merge'] == 'left_only')]\n",
    "new_gisaid_mutations = new_df[new_df.index.isin(new_df_noWU.index)]\n",
    "new_gisaid_mutations = new_gisaid_mutations[['site','amino_acid','alignment_counts']]\n",
    "new_gisaid_mutations"
   ]
  },
  {
   "cell_type": "code",
   "execution_count": null,
   "metadata": {},
   "outputs": [],
   "source": [
    "#now merge tables just on parent position, remove rows with no usher data, sort by position\n",
    "new_gisaid_mutations = pd.merge(new_gisaid_mutations,\n",
    "                  usher_df,\n",
    "                  how='left',\n",
    "                  left_on=['site', 'amino_acid'],\n",
    "                  right_on = ['site', 'amino_acid'])\n",
    "\n",
    "#drop positions with NaN in parent sequence removed CTD amino acids\n",
    "new_gisaid_mutations = new_gisaid_mutations[new_gisaid_mutations['n_mutations_to'].notna()]\n",
    "new_gisaid_mutations = new_gisaid_mutations.sort_values(by=['site'],ignore_index=True )\n",
    "new_gisaid_mutations"
   ]
  },
  {
   "cell_type": "markdown",
   "metadata": {},
   "source": [
    "Now plot correlation between usher and GISAID data"
   ]
  },
  {
   "cell_type": "code",
   "execution_count": null,
   "metadata": {},
   "outputs": [],
   "source": [
    "p = (ggplot(new_gisaid_mutations) + \n",
    "     aes('alignment_counts', 'n_mutations_to') + \n",
    "     geom_point(alpha = 0.3)+\n",
    "     scale_x_log10()+\n",
    "     scale_y_log10()\n",
    "    )\n",
    "p.draw"
   ]
  },
  {
   "cell_type": "markdown",
   "metadata": {},
   "source": [
    "Now look at which mutations in usher are not present in GISAID"
   ]
  },
  {
   "cell_type": "code",
   "execution_count": null,
   "metadata": {},
   "outputs": [],
   "source": [
    "usher_df[\"site_mutations\"] = usher_df[\"site\"].astype(str) + usher_df[\"amino_acid\"]\n",
    "gisaid_mutations[\"site_mutations\"] = gisaid_mutations[\"site\"].astype(str) + gisaid_mutations[\"amino_acid\"]\n",
    "\n",
    "notInGISAID=usher_df.loc[~usher_df.site_mutations.isin(gisaid_mutations.site_mutations),]\n",
    "notInGISAID.sort_values(by=['n_mutations_to'], ascending=False)"
   ]
  },
  {
   "cell_type": "markdown",
   "metadata": {},
   "source": [
    "Now plot counts for usher sites not present in GISAID"
   ]
  },
  {
   "cell_type": "code",
   "execution_count": null,
   "metadata": {},
   "outputs": [],
   "source": [
    "p = (ggplot(notInGISAID) + \n",
    "     aes('n_mutations_to') + \n",
    "     geom_histogram(bins = 12)\n",
    "    )\n",
    "p.draw"
   ]
  },
  {
   "cell_type": "code",
   "execution_count": null,
   "metadata": {},
   "outputs": [],
   "source": [
    "#plot sites of usher changes\n",
    "p = (ggplot(new_gisaid_mutations) + \n",
    "     aes('site') + \n",
    "     geom_bar()\n",
    "    )\n",
    "p.draw"
   ]
  },
  {
   "cell_type": "markdown",
   "metadata": {},
   "source": [
    "## Filter usher dataset"
   ]
  },
  {
   "cell_type": "markdown",
   "metadata": {},
   "source": [
    "We want to filter usher data for more frequent mutations"
   ]
  },
  {
   "cell_type": "code",
   "execution_count": null,
   "metadata": {},
   "outputs": [],
   "source": [
    "#merge lookup and usher tables\n",
    "#remove mutations that are in variant spike already\n",
    "new_usher_df = pd.merge(usher_df,\n",
    "                  reference_lookup,\n",
    "                  how='left',\n",
    "                  left_on=['site','amino_acid'],\n",
    "                  right_on = ['parent_pos','parent_seq'],\n",
    "                  indicator=True)\n",
    "\n",
    "#filter on amino acids not already present in variant\n",
    "new_new_usher_df_noRef = new_usher_df.loc[(new_usher_df['_merge'] == 'left_only') | (new_usher_df['variant_sig'] == 'Yes')]\n",
    "new_usher_df = new_usher_df[new_usher_df.index.isin(new_new_usher_df_noRef.index)]\n",
    "new_usher_df = new_usher_df[['site','amino_acid','n_mutations_to']]\n"
   ]
  },
  {
   "cell_type": "code",
   "execution_count": null,
   "metadata": {},
   "outputs": [],
   "source": [
    "#now merge tables just on parent position\n",
    "new_usher_df = pd.merge(new_usher_df,\n",
    "                  reference_lookup,\n",
    "                  how='left',\n",
    "                  left_on=['site'],\n",
    "                  right_on = ['parent_pos'])\n",
    "\n",
    "#drop positions with NaN in parent sequence removed CTD amino acids\n",
    "new_usher_df = new_usher_df[new_usher_df['parent_pos'].notna()]\n",
    "new_usher_df = new_usher_df.sort_values(by=['site'],ignore_index=True)\n",
    "new_usher_df"
   ]
  },
  {
   "cell_type": "code",
   "execution_count": null,
   "metadata": {},
   "outputs": [],
   "source": [
    "p = (ggplot(new_usher_df) + \n",
    "     aes('n_mutations_to') + \n",
    "     geom_histogram(color='white', bins=100)+\n",
    "     xlim(0,200)\n",
    "    )\n",
    "\n",
    "# ggsave(plot = p, filename = 'results/primer_tm_dist.png')\n",
    "p.draw"
   ]
  },
  {
   "cell_type": "code",
   "execution_count": null,
   "metadata": {},
   "outputs": [],
   "source": [
    "#drop mutations that occur less >= <usher_count_filter> times\n",
    "new_usher_df=new_usher_df.loc[new_usher_df['n_mutations_to'] >= usher_count_filter]\n",
    "len(new_usher_df)"
   ]
  },
  {
   "cell_type": "code",
   "execution_count": null,
   "metadata": {},
   "outputs": [],
   "source": [
    "p = (ggplot(new_usher_df) + \n",
    "     aes('n_mutations_to') + \n",
    "     geom_histogram(color='white', bins=100)+\n",
    "     xlim(0,200)\n",
    "    )\n",
    "\n",
    "# ggsave(plot = p, filename = 'results/primer_tm_dist.png')\n",
    "p.draw"
   ]
  },
  {
   "cell_type": "markdown",
   "metadata": {},
   "source": [
    "Now filter drop columns that we don't need and relabel for variant"
   ]
  },
  {
   "cell_type": "code",
   "execution_count": null,
   "metadata": {},
   "outputs": [],
   "source": [
    "#create new table with mutations according to variant numbering\n",
    "new_usher_df = new_usher_df[['variant_pos', 'amino_acid', 'n_mutations_to']].copy()\n",
    "new_usher_df = new_usher_df.rename(\n",
    "                            columns={\"variant_pos\": \"site\",\n",
    "                                     \"amino_acid\": \"mutant\",\n",
    "                                     \"n_mutations_to\": \"n_mutations_to\" }\n",
    ")\n",
    "new_usher_df\n",
    "new_usher_df.to_csv(new_usher_df_out, index=False) "
   ]
  },
  {
   "cell_type": "markdown",
   "metadata": {},
   "source": [
    "## Make usher primers"
   ]
  },
  {
   "cell_type": "code",
   "execution_count": null,
   "metadata": {},
   "outputs": [],
   "source": [
    "# run primer design script\n",
    "!python {create_primers_srcipt} \\\n",
    "    {spike_extended} \\\n",
    "    {new_usher_df_out} \\\n",
    "    {codon_table} \\\n",
    "    variant_usher \\\n",
    "    {usher_primers} \\\n",
    "    --minprimertm 60.5 \\\n",
    "    --maxprimertm 61.5"
   ]
  },
  {
   "cell_type": "markdown",
   "metadata": {},
   "source": [
    "## Check usher primers"
   ]
  },
  {
   "cell_type": "code",
   "execution_count": null,
   "metadata": {},
   "outputs": [],
   "source": [
    "#import primer table\n",
    "header_list = [\"primer_name\", \"seq\"]\n",
    "variant_usher_primers = pd.read_csv(usher_primers, names=header_list)\n",
    "variant_usher_primers"
   ]
  },
  {
   "cell_type": "code",
   "execution_count": null,
   "metadata": {},
   "outputs": [],
   "source": [
    "variant_usher_primers['Tm'] = variant_usher_primers.apply(lambda x: '%0.2f' % mt.Tm_NN(x.seq, strict=False), axis=1)\n",
    "variant_usher_primers['Tm'] = variant_usher_primers['Tm'].astype('float')\n",
    "variant_usher_primers['length'] = variant_usher_primers.apply(lambda x: len(x.seq), axis=1)\n",
    "variant_usher_primers"
   ]
  },
  {
   "cell_type": "code",
   "execution_count": null,
   "metadata": {},
   "outputs": [],
   "source": [
    "p = (ggplot(variant_usher_primers) + \n",
    "     aes('length') + \n",
    "     geom_histogram(color='white',bins=30)\n",
    "    )\n",
    "\n",
    "p.draw"
   ]
  },
  {
   "cell_type": "code",
   "execution_count": null,
   "metadata": {},
   "outputs": [],
   "source": [
    "p = (ggplot(variant_usher_primers) + \n",
    "     aes('Tm') + \n",
    "     geom_histogram(color='white', bins=30)+\n",
    "     xlim(58,72)\n",
    "    )\n",
    "\n",
    "p.draw"
   ]
  },
  {
   "cell_type": "code",
   "execution_count": null,
   "metadata": {},
   "outputs": [],
   "source": [
    "statistics.pvariance(variant_usher_primers['Tm'])"
   ]
  },
  {
   "cell_type": "code",
   "execution_count": null,
   "metadata": {},
   "outputs": [],
   "source": []
  },
  {
   "cell_type": "code",
   "execution_count": null,
   "metadata": {},
   "outputs": [],
   "source": []
  }
 ],
 "metadata": {
  "kernelspec": {
   "display_name": "Python 3 (ipykernel)",
   "language": "python",
   "name": "python3"
  },
  "language_info": {
   "codemirror_mode": {
    "name": "ipython",
    "version": 3
   },
   "file_extension": ".py",
   "mimetype": "text/x-python",
   "name": "python",
   "nbconvert_exporter": "python",
   "pygments_lexer": "ipython3",
   "version": "3.8.12"
  }
 },
 "nbformat": 4,
 "nbformat_minor": 4
}
