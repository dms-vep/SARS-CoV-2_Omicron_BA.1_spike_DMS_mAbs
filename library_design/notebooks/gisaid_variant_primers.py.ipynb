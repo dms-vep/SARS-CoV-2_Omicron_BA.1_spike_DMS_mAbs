{
 "cells": [
  {
   "cell_type": "markdown",
   "metadata": {},
   "source": [
    "# Generate primers for spike mutations in GISAID alignments"
   ]
  },
  {
   "cell_type": "markdown",
   "metadata": {},
   "source": [
    "This script takes `spike_alignment_counts.csv` table, filters it for amino acids that are not already present in variant sequence and runs `create_primers_del.py` script to generate primers."
   ]
  },
  {
   "cell_type": "code",
   "execution_count": null,
   "metadata": {},
   "outputs": [],
   "source": [
    "import pandas as pd\n",
    "from plotnine import *\n",
    "from Bio.SeqUtils import MeltingTemp as mt\n",
    "import statistics"
   ]
  },
  {
   "cell_type": "code",
   "execution_count": null,
   "metadata": {},
   "outputs": [],
   "source": [
    "# import snakemake variables\n",
    "gisaid_mutations = snakemake.input.gisaid_mutations\n",
    "reference_lookup  = snakemake.input.reference_lookup\n",
    "codon_table = snakemake.input.codon_table\n",
    "spike_extended = snakemake.input.spike_extended\n",
    "create_primers_srcipt = snakemake.input.create_primers_srcipt\n",
    "gisaid_mutation_count_filter = snakemake.params.gisaid_mutation_count_filter\n",
    "deletion_count_filter = snakemake.params.deletion_count_filter\n",
    "\n",
    "variant_gisaid_mutations_out = snakemake.output.variant_gisaid_mutations\n",
    "variant_gisaid_primers_del = snakemake.output.variant_gisaid_primers_del\n",
    "variant_gisaid_primers = snakemake.output.variant_gisaid_primers"
   ]
  },
  {
   "cell_type": "code",
   "execution_count": null,
   "metadata": {},
   "outputs": [],
   "source": [
    "# gisaid_mutations = '../results/spike_alignment_counts.csv'\n",
    "# reference_lookup  = '../reference_sequences/reference_sequence_position_lookup.csv'\n",
    "# codon_table = '../reference_sequences/homo_codon_freq_del.csv'\n",
    "# spike_extended = '../reference_sequences/Omicron_BA.1_extended_ends_for_primers.txt'\n",
    "# create_primers_srcipt = '../scripts/create_primers_del.py'\n",
    "# gisaid_mutation_count_filter = 16\n",
    "\n",
    "# variant_gisaid_mutations_out = '../results/variant_gisaid_mutations.csv'\n",
    "# variant_gisaid_primers_del = '../results/variant_gisaid_primers_del.csv'\n",
    "# variant_gisaid_primers = '../results/pool_variant_gisaid_mutation_primers.csv'\n",
    "# deletion_count_filter = 200\n"
   ]
  },
  {
   "cell_type": "code",
   "execution_count": null,
   "metadata": {},
   "outputs": [],
   "source": [
    "gisaid_mutations = pd.read_csv(gisaid_mutations)\n",
    "reference_lookup = pd.read_csv(reference_lookup)"
   ]
  },
  {
   "cell_type": "code",
   "execution_count": null,
   "metadata": {},
   "outputs": [],
   "source": [
    "#rename columns\n",
    "gisaid_mutations = gisaid_mutations.drop(columns=['wildtype'])\n",
    "gisaid_mutations = gisaid_mutations.rename(columns={\"mutant\": \"amino_acid\", \"count\": \"alignment_counts\"}).reset_index(drop=True)\n",
    "# change deletion character\n",
    "gisaid_mutations['amino_acid'] = gisaid_mutations['amino_acid'].str.replace('del','-')\n",
    "#remove any mutations that are not single substitutions or deletions\n",
    "gisaid_mutations = gisaid_mutations[gisaid_mutations['amino_acid'].str.len() == 1]\n"
   ]
  },
  {
   "cell_type": "code",
   "execution_count": null,
   "metadata": {},
   "outputs": [],
   "source": [
    "#remove deletions outside NTD region\n",
    "gisaid_mutations = gisaid_mutations[(gisaid_mutations.amino_acid != '-') | (gisaid_mutations.site <= 303 )]"
   ]
  },
  {
   "cell_type": "code",
   "execution_count": null,
   "metadata": {},
   "outputs": [],
   "source": [
    "gisaid_mutations"
   ]
  },
  {
   "cell_type": "code",
   "execution_count": null,
   "metadata": {},
   "outputs": [],
   "source": [
    "#plot deletion counts\n",
    "p = (ggplot(gisaid_mutations[(gisaid_mutations.amino_acid == '-') ]) + \n",
    "     aes('alignment_counts') + \n",
    "     geom_histogram(bins=500)+\n",
    "     xlim(0,1000)\n",
    "    )\n",
    "p.draw"
   ]
  },
  {
   "cell_type": "code",
   "execution_count": null,
   "metadata": {},
   "outputs": [],
   "source": [
    "#plot deletion counts along spike NTD\n",
    "p = (ggplot(gisaid_mutations[(gisaid_mutations.amino_acid == '-') ]) + \n",
    "     aes('site', 'alignment_counts') + \n",
    "     geom_point()+\n",
    "     xlim(0,303)+\n",
    "     scale_y_continuous(trans='log10')\n",
    "    )\n",
    "p.draw"
   ]
  },
  {
   "cell_type": "code",
   "execution_count": null,
   "metadata": {},
   "outputs": [],
   "source": [
    "#Filter out NTD deletions\n",
    "gisaid_mutations = gisaid_mutations[(gisaid_mutations.amino_acid == '-') & (gisaid_mutations.alignment_counts > deletion_count_filter ) | (gisaid_mutations.amino_acid != '-')]\n"
   ]
  },
  {
   "cell_type": "code",
   "execution_count": null,
   "metadata": {},
   "outputs": [],
   "source": [
    "#plot selected deletion counts along spike NTD\n",
    "print(len(gisaid_mutations[(gisaid_mutations.amino_acid == '-') & (gisaid_mutations.alignment_counts > deletion_count_filter )]))\n",
    "      \n",
    "p = (ggplot(gisaid_mutations[(gisaid_mutations.amino_acid == '-')]) + \n",
    "     aes('site', 'alignment_counts') + \n",
    "     geom_point()+\n",
    "     xlim(0,303)+\n",
    "     scale_y_continuous(trans='log10')\n",
    "    )\n",
    "p.draw"
   ]
  },
  {
   "cell_type": "code",
   "execution_count": null,
   "metadata": {},
   "outputs": [],
   "source": [
    "#Merge any duplicated sites\n",
    "gisaid_mutations = gisaid_mutations.groupby(['site','amino_acid']).agg({'alignment_counts': 'sum'})\n",
    "gisaid_mutations.reset_index(inplace=True)"
   ]
  },
  {
   "cell_type": "code",
   "execution_count": null,
   "metadata": {},
   "outputs": [],
   "source": [
    "#plot alignment_counts for nondeletions\n",
    "p = (ggplot(gisaid_mutations[(gisaid_mutations.amino_acid != '-') ]) + \n",
    "     aes('alignment_counts') + \n",
    "     geom_histogram(bins=500)+\n",
    "     xlim(0,500)\n",
    "    )\n",
    "p.draw"
   ]
  },
  {
   "cell_type": "code",
   "execution_count": null,
   "metadata": {},
   "outputs": [],
   "source": [
    "#remove GISAID mutations that are in variant spike already\n",
    "#merge lookup and gisaid tables\n",
    "new_df = pd.merge(gisaid_mutations,\n",
    "                  reference_lookup,\n",
    "                  how='left',\n",
    "                  left_on=['site','amino_acid'],\n",
    "                  right_on = ['parent_pos','parent_seq'],\n",
    "                  indicator=True)\n",
    "\n",
    "#filter on amino acids not already present in variant\n",
    "new_df_noWU = new_df.loc[(new_df['_merge'] == 'left_only') | (new_df['variant_sig'] == 'Yes')]\n",
    "new_gisaid_mutations = new_df[new_df.index.isin(new_df_noWU.index)]\n",
    "new_gisaid_mutations = new_gisaid_mutations[['site','amino_acid','alignment_counts']]"
   ]
  },
  {
   "cell_type": "code",
   "execution_count": null,
   "metadata": {},
   "outputs": [],
   "source": [
    "#now merge tables just on parent position, sort by position, and renumber by variant\n",
    "new_gisaid_mutations = pd.merge(new_gisaid_mutations,\n",
    "                  reference_lookup,\n",
    "                  how='left',\n",
    "                  left_on=['site'],\n",
    "                  right_on = ['parent_pos'])\n",
    "\n",
    "#drop positions with NaN in parent sequence removed CTD amino acids\n",
    "new_gisaid_mutations = new_gisaid_mutations[new_gisaid_mutations['parent_pos'].notna()]\n",
    "new_gisaid_mutations = new_gisaid_mutations.sort_values(by=['site'],ignore_index=True )"
   ]
  },
  {
   "cell_type": "code",
   "execution_count": null,
   "metadata": {},
   "outputs": [],
   "source": [
    "#plot alignment_counts for nondeletions after filtering\n",
    "print('number of sites:', len(gisaid_mutations[(gisaid_mutations.amino_acid != '-') & (gisaid_mutations.alignment_counts >= gisaid_mutation_count_filter)].index))\n",
    "p = (ggplot(gisaid_mutations[(gisaid_mutations.amino_acid != '-') & (gisaid_mutations.alignment_counts >= gisaid_mutation_count_filter)]) + \n",
    "     aes('alignment_counts') + \n",
    "     geom_histogram(bins=500)+\n",
    "     xlim(0,500)\n",
    "    )\n",
    "p.draw\n"
   ]
  },
  {
   "cell_type": "code",
   "execution_count": null,
   "metadata": {},
   "outputs": [],
   "source": [
    "#drop mutations that occur only once\n",
    "new_gisaid_mutations = new_gisaid_mutations.loc[new_gisaid_mutations['alignment_counts'] > gisaid_mutation_count_filter]\n"
   ]
  },
  {
   "cell_type": "code",
   "execution_count": null,
   "metadata": {},
   "outputs": [],
   "source": [
    "#create new table with mutations according to variant numbering\n",
    "variant_gisaid_mutations = new_gisaid_mutations[['variant_pos', 'amino_acid', 'alignment_counts']].copy()\n",
    "variant_gisaid_mutations = variant_gisaid_mutations.rename(\n",
    "                            columns={\"variant_pos\": \"site\",\n",
    "                                     \"amino_acid\": \"mutant\",\n",
    "                                     \"alignment_counts\": \"alignment_counts\" }\n",
    ")\n",
    "variant_gisaid_mutations.to_csv(variant_gisaid_mutations_out, index=False) "
   ]
  },
  {
   "cell_type": "code",
   "execution_count": null,
   "metadata": {},
   "outputs": [],
   "source": [
    "# run primer design script\n",
    "!python {create_primers_srcipt} \\\n",
    "    {spike_extended} \\\n",
    "    {variant_gisaid_mutations_out} \\\n",
    "    {codon_table} \\\n",
    "    variantGISAID \\\n",
    "    {variant_gisaid_primers_del} \\\n",
    "    --minprimertm 60.5 \\\n",
    "    --maxprimertm 61.5"
   ]
  },
  {
   "cell_type": "code",
   "execution_count": null,
   "metadata": {},
   "outputs": [],
   "source": [
    "#import primer table\n",
    "header_list = [\"primer_name\", \"seq\"]\n",
    "variantGISAID_primers = pd.read_csv(variant_gisaid_primers_del, names=header_list)\n",
    "variantGISAID_primers"
   ]
  },
  {
   "cell_type": "code",
   "execution_count": null,
   "metadata": {},
   "outputs": [],
   "source": [
    "#strip all --- strings that indicate deletions\n",
    "variantGISAID_primers['seq'] = variantGISAID_primers['seq'].replace('-', '', regex=True).astype(str)\n",
    "variantGISAID_primers"
   ]
  },
  {
   "cell_type": "markdown",
   "metadata": {},
   "source": [
    "## Analyse primers"
   ]
  },
  {
   "cell_type": "markdown",
   "metadata": {},
   "source": [
    "Analyse primer annealing temperatures."
   ]
  },
  {
   "cell_type": "code",
   "execution_count": null,
   "metadata": {},
   "outputs": [],
   "source": [
    "variantGISAID_primers['Tm'] = variantGISAID_primers.apply(lambda x: '%0.2f' % mt.Tm_NN(x.seq, strict=False), axis=1)\n",
    "variantGISAID_primers['Tm'] = variantGISAID_primers['Tm'].astype('float')\n",
    "variantGISAID_primers['length'] = variantGISAID_primers.apply(lambda x: len(x.seq), axis=1)\n",
    "variantGISAID_primers"
   ]
  },
  {
   "cell_type": "code",
   "execution_count": null,
   "metadata": {
    "scrolled": true
   },
   "outputs": [],
   "source": [
    "p = (ggplot(variantGISAID_primers) + \n",
    "     aes('length') + \n",
    "     geom_histogram(color='white',bins=30)\n",
    "    )\n",
    "\n",
    "p.draw"
   ]
  },
  {
   "cell_type": "code",
   "execution_count": null,
   "metadata": {},
   "outputs": [],
   "source": [
    "p = (ggplot(variantGISAID_primers) + \n",
    "     aes('Tm') + \n",
    "     geom_histogram(color='white', bins=30)+\n",
    "     xlim(58,72)\n",
    "    )\n",
    "\n",
    "p.draw"
   ]
  },
  {
   "cell_type": "code",
   "execution_count": null,
   "metadata": {
    "scrolled": true
   },
   "outputs": [],
   "source": [
    "statistics.pvariance(variantGISAID_primers['Tm'])"
   ]
  },
  {
   "cell_type": "code",
   "execution_count": null,
   "metadata": {},
   "outputs": [],
   "source": [
    "# finish by exporting primers\n",
    "variantGISAID_primers.to_csv(variant_gisaid_primers, index=False) "
   ]
  },
  {
   "cell_type": "code",
   "execution_count": null,
   "metadata": {},
   "outputs": [],
   "source": []
  }
 ],
 "metadata": {
  "kernelspec": {
   "display_name": "Python 3 (ipykernel)",
   "language": "python",
   "name": "python3"
  },
  "language_info": {
   "codemirror_mode": {
    "name": "ipython",
    "version": 3
   },
   "file_extension": ".py",
   "mimetype": "text/x-python",
   "name": "python",
   "nbconvert_exporter": "python",
   "pygments_lexer": "ipython3",
   "version": "3.8.12"
  }
 },
 "nbformat": 4,
 "nbformat_minor": 4
}
