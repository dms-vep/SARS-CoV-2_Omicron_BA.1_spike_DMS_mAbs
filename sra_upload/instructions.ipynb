{
 "cells": [
  {
   "cell_type": "code",
   "execution_count": 1,
   "id": "59752c64",
   "metadata": {},
   "outputs": [],
   "source": [
    "from utils import sra_metadata, ftp_upload\n",
    "import yaml\n",
    "import os\n",
    "import pandas as pd"
   ]
  },
  {
   "cell_type": "markdown",
   "id": "c3335af1",
   "metadata": {},
   "source": [
    "# Uploading your sequencing runs to the SRA\n",
    "\n",
    "Before publishing your study, you must make the raw sequencing runs available. This notebook contains the instructions and code for uploading these `fastq` files to the [NCBI Sequence Read Archive](https://www.ncbi.nlm.nih.gov/sra)."
   ]
  },
  {
   "cell_type": "markdown",
   "id": "c6da75c8",
   "metadata": {},
   "source": [
    "The recommended way to organize your experiments on the SRA is as follows:\n",
    "\n",
    "```\n",
    "BioProject: Variant library (i.e Omicron BA.1)\n",
    "|\n",
    "|___BioSamples: PacBio barcode linking, Illumina barcodes from individual studies\n",
    "\t|\n",
    "\t|___SRA Experiments: Individual runs and replicates of antibodies, sera, etc..\n",
    "```\n",
    "\n",
    "This structure is in keeping with the scheme used in Tyler's and Allie's Yeast Display DMS projects like this one [here](https://www.ncbi.nlm.nih.gov/bioproject/PRJNA639956). You can see what this looks like for an individual run from it's [`BioProject`](https://www.ncbi.nlm.nih.gov/bioproject/PRJNA639956) >> to it's [`BioSample`](https://www.ncbi.nlm.nih.gov/biosample/19925005) >> and finally, the [`SRA Run`](https://www.ncbi.nlm.nih.gov/sra/SRX11291810[accn]) itself.\n"
   ]
  },
  {
   "cell_type": "markdown",
   "id": "9009a5f6",
   "metadata": {},
   "source": [
    "**Note:** *The instructions below are applicable whether you have a new variant library for which a* `BioProject` *doesn't exist, or whether you are uploading a new* `BioSample` *to an existing* `BioProject`."
   ]
  },
  {
   "cell_type": "markdown",
   "id": "6af746f5",
   "metadata": {},
   "source": [
    "---"
   ]
  },
  {
   "cell_type": "markdown",
   "id": "599248a3",
   "metadata": {},
   "source": [
    "<details>\n",
    "  \n",
    "  <summary>\n",
    "      <h1>&#9758; Click to Create the BioProject</h1>\n",
    "  </summary>\n",
    "    \n",
    "**Here is where the intructions will go for making a new BioProject. I'll fill this in as I do it.** \n",
    "  \n",
    "</details>"
   ]
  },
  {
   "cell_type": "markdown",
   "id": "c0f4ffb4",
   "metadata": {},
   "source": [
    "<p><strong>If you haven't yet created a </strong><code>BioProject</code><strong> for your variant library, click the pointing finger ( &#9758; ) to see how to set this up.</strong></p>"
   ]
  },
  {
   "cell_type": "code",
   "execution_count": 3,
   "id": "f33bc914",
   "metadata": {},
   "outputs": [],
   "source": [
    "# After you've created the BioProject,\n",
    "# or if you already have a BioProject that you'd like to add to,\n",
    "# put the correct Accession here.\n",
    "\n",
    "BioProject_ID = \"\""
   ]
  },
  {
   "cell_type": "markdown",
   "id": "716f695e",
   "metadata": {},
   "source": [
    "---\n",
    "# Create the BioSample for your Barcodes\n",
    "\n",
    "**Otherwise, if your** `BioProject` **already exists and you are uploading barcode runs, start with these instructions.**\n",
    "\n",
    "First, go to the [SRA Submission Portal](https://submit.ncbi.nlm.nih.gov/subs/) and login.\n",
    "\n",
    "Then under the **`Start a new submission`** banner, click `BioSample` to create a new BioSample. You are now on a page that has a blue **`New Submission`** button, which you should select. This will bring you to a page with some Submitter information; check that it is correct and then hit **`Continue`**. \n",
    "\n",
    "You will then be on the **`General Information`** page. Select when to release the submission to the public (*generally, immediately is OK*). Then click that you are uploading a `Single BioSample` and hit **`Continue`**.\n",
    "\n",
    "You will now be at the **`Sample Type`** page, and you have to select the package that best describes the submission. Click `Pathogen(?)`. Then click **`Continue`**. \n",
    "\n",
    "Now, you will enter the sample attributes. For the sample name, provide a short name that describes the sample, such as `omicron_BA1_lenti_dms`. Also provide the rest of the information by editing the first section of the [`config.yml`](config.yml) in this directory. **Run the cell below to check what you've set and will need to add to the SRA.** "
   ]
  },
  {
   "cell_type": "code",
   "execution_count": 16,
   "id": "76fc768c",
   "metadata": {},
   "outputs": [
    {
     "name": "stdout",
     "output_type": "stream",
     "text": [
      "\n",
      "Organism: severe acute respiratory syndrome coronavirus 2\n",
      "\n",
      "Strain: Omicron BA.1\n",
      "\n",
      "Isolation Source: plasmid\n",
      "\n",
      "Collection Data: 2022\n",
      "\n",
      "Geographic Location: USA\n",
      "\n",
      "Sample Type: plasmid\n",
      "\n"
     ]
    }
   ],
   "source": [
    "with open('config.yml') as f:\n",
    "    config = yaml.safe_load(f)\n",
    "    \n",
    "print(\n",
    "f\"\"\"\n",
    "Organism: {config['organism']}\\n\n",
    "Strain: {config['strain']}\\n\n",
    "Isolation Source: {config['isolation_source']}\\n\n",
    "Collection Data: {config['collection_date']}\\n\n",
    "Geographic Location: {config['geographic_location']}\\n\n",
    "Sample Type: {config['isolation_source']}\n",
    "\"\"\"\n",
    ")"
   ]
  },
  {
   "cell_type": "markdown",
   "id": "04c87bec",
   "metadata": {},
   "source": [
    "Then hit **`Continue`**.\n",
    "\n",
    "You will now be on the page to specify the `BioProject`. You should either be adding to an existing BioProject, or have created a new on according to the instructions above. Enter the correct ID in the format of `PRJNAXXXXXX` as the **`Existing BioProject`** and hit **`Continue`**.\n",
    "\n",
    "Finally, add a sample title, such as `\"Illumina barcode sequencing from mutational antigenic profiling of Omicron BA.1 Spike with clinically relevant antibodies.\"` Then hit **`Continue`**, make sure everything looks correct, then hit **`Submit`**.\n",
    "\n",
    "After a brief bit of processing, the `BioSample` submission should show up, along with a sample accession that will be in the format of `SAMNXXXXXXX`. Add this sample accession to [`config.yml`](config.yml) as the value for the `accession` key under the `barcode_runs` key."
   ]
  },
  {
   "cell_type": "code",
   "execution_count": 4,
   "id": "a285646b",
   "metadata": {
    "scrolled": true
   },
   "outputs": [
    {
     "name": "stdout",
     "output_type": "stream",
     "text": [
      "The BioSample accession for these Illumina Barcode runs is: SAMN12345678\n",
      "The BioProject accession for these Illumina Barcode runs is: \n"
     ]
    }
   ],
   "source": [
    "with open('config.yml') as f:\n",
    "    config = yaml.safe_load(f)\n",
    "print(f\"The BioSample accession for these Illumina Barcode runs is: {config['barcode_runs']['accession']}\")\n",
    "print(f\"The BioProject accession for these Illumina Barcode runs is: {BioProject_ID}\")"
   ]
  },
  {
   "cell_type": "markdown",
   "id": "39e190a9",
   "metadata": {},
   "source": [
    "---\n",
    "## Upload the sequencing data\n",
    "\n",
    "Go back to the [SRA Submission Portal](https://submit.ncbi.nlm.nih.gov/subs/) and login again. This time, under the **`Start a new submission banner`**, click **`Sequence Read Archive`** to upload the actual sequencing data.\n",
    "\n",
    "You are now on a page with a **`New submission`** button, which you should click. Check that the submitter information is correct, then click **`Continue`**.\n",
    "\n",
    "You will now be at the **`General Information`** page. We are adding to an existing `BioProject`, so enter the correct `BioProject` accession as the **`Existing BioProject`**. Then for the question of whether you already registered a `BioSample`, also select yes. Then select a Release Date depending on whether you want to release the results immediately (*usually fine*) or at some future date. Then click **`Continue`**.\n",
    "\n",
    "You will now be at a page that asks how you want to provide the `SRA Metadata`. Click to Upload a file. The next section describes how to create this table."
   ]
  },
  {
   "cell_type": "markdown",
   "id": "1f259d55",
   "metadata": {},
   "source": [
    "---\n",
    "## Create SRA metadata submission table\n",
    "\n",
    "To create the SRA metadata submission table for the Illumina Barcode runs, you'll edit the values under the `barcode_runs` key in the [`config.yml`](config.yml) file in this directory. \n",
    "\n",
    "For the key `barcode_runs` >> `file_path`, add the path to a `*.csv` file with **only** the barcode runs that you're going to submit to the SRA for *this BioSample*. \n",
    "\n",
    "Most of the values should be self explanatory, however, for the key `sample_id_columns`, choose the columns that should be concatenated in order to make a unique `library_ID` for the submission. **The order of the columns matters**. \n",
    "\n",
    "After you've edited the [`config.yml`](config.yml) file, run the cell below to double-check that the values are correct. "
   ]
  },
  {
   "cell_type": "code",
   "execution_count": 22,
   "id": "d5f98ba5",
   "metadata": {},
   "outputs": [
    {
     "name": "stdout",
     "output_type": "stream",
     "text": [
      "file_path: ../data/barcode_runs.csv\n",
      " accession: SAMN12345678\n",
      " sample_id_columns: ['virus_batch', 'sample_type', 'antibody', 'antibody_concentration', 'replicate']\n",
      " title_prefix: Full Spike glycoprotein DMS illumina barcode sequencing for\n",
      " description: PCR of barcodes from glycoprotein variants\n",
      " strategy: AMPLICON\n",
      " source: SYNTHETIC\n",
      " selection: PCR\n",
      " layout: single\n",
      " platform: ILLUMINA\n",
      " model: Illumina HiSeq 2500\n",
      "\n"
     ]
    }
   ],
   "source": [
    "with open('config.yml') as f:\n",
    "    config = yaml.safe_load(f)\n",
    "\n",
    "print(*[f\"{k}: {v}\\n\" for k,v in config['barcode_runs'].items() if k != \"ftp_subfolder\"])"
   ]
  },
  {
   "cell_type": "markdown",
   "id": "456bbbea",
   "metadata": {},
   "source": [
    "If these values are correct, run the cell below to make the `barcodes_SRA_metadata.tsv` file for the Illumina Barcode runs that you're including in this `BioSample` submission and save a file containing the paths to the files for upload.\n",
    "\n",
    "**Check that the table looks like you expect it to!**"
   ]
  },
  {
   "cell_type": "code",
   "execution_count": 36,
   "id": "b81eba3a",
   "metadata": {},
   "outputs": [
    {
     "data": {
      "text/html": [
       "<div>\n",
       "<style scoped>\n",
       "    .dataframe tbody tr th:only-of-type {\n",
       "        vertical-align: middle;\n",
       "    }\n",
       "\n",
       "    .dataframe tbody tr th {\n",
       "        vertical-align: top;\n",
       "    }\n",
       "\n",
       "    .dataframe thead th {\n",
       "        text-align: right;\n",
       "    }\n",
       "</style>\n",
       "<table border=\"1\" class=\"dataframe\">\n",
       "  <thead>\n",
       "    <tr style=\"text-align: right;\">\n",
       "      <th></th>\n",
       "      <th>biosample_accession</th>\n",
       "      <th>library_ID</th>\n",
       "      <th>title</th>\n",
       "      <th>library_strategy</th>\n",
       "      <th>library_source</th>\n",
       "      <th>library_selection</th>\n",
       "      <th>library_layout</th>\n",
       "      <th>platform</th>\n",
       "      <th>instrument_model</th>\n",
       "      <th>design_description</th>\n",
       "      <th>filetype</th>\n",
       "      <th>filename</th>\n",
       "      <th>filename2</th>\n",
       "    </tr>\n",
       "  </thead>\n",
       "  <tbody>\n",
       "    <tr>\n",
       "      <th>0</th>\n",
       "      <td>SAMN12345678</td>\n",
       "      <td>Lib-1_thaw-1_VSVG_control_none_none_1</td>\n",
       "      <td>Full Spike glycoprotein DMS illumina barcode s...</td>\n",
       "      <td>AMPLICON</td>\n",
       "      <td>SYNTHETIC</td>\n",
       "      <td>PCR</td>\n",
       "      <td>single</td>\n",
       "      <td>ILLUMINA</td>\n",
       "      <td>Illumina HiSeq 2500</td>\n",
       "      <td>PCR of barcodes from glycoprotein variants</td>\n",
       "      <td>fastq</td>\n",
       "      <td>VSVG_A50_rep1_S3_R1_001.fastq.gz</td>\n",
       "      <td>NaN</td>\n",
       "    </tr>\n",
       "    <tr>\n",
       "      <th>1</th>\n",
       "      <td>SAMN12345678</td>\n",
       "      <td>Lib-1_thaw-1_VSVG_control_none_none_2</td>\n",
       "      <td>Full Spike glycoprotein DMS illumina barcode s...</td>\n",
       "      <td>AMPLICON</td>\n",
       "      <td>SYNTHETIC</td>\n",
       "      <td>PCR</td>\n",
       "      <td>single</td>\n",
       "      <td>ILLUMINA</td>\n",
       "      <td>Illumina HiSeq 2500</td>\n",
       "      <td>PCR of barcodes from glycoprotein variants</td>\n",
       "      <td>fastq</td>\n",
       "      <td>VSVG_A50_rep2_S4_R1_001.fastq.gz</td>\n",
       "      <td>NaN</td>\n",
       "    </tr>\n",
       "    <tr>\n",
       "      <th>2</th>\n",
       "      <td>SAMN12345678</td>\n",
       "      <td>Lib-1_thaw-1_antibody_CC95.102_37.0_1</td>\n",
       "      <td>Full Spike glycoprotein DMS illumina barcode s...</td>\n",
       "      <td>AMPLICON</td>\n",
       "      <td>SYNTHETIC</td>\n",
       "      <td>PCR</td>\n",
       "      <td>single</td>\n",
       "      <td>ILLUMINA</td>\n",
       "      <td>Illumina HiSeq 2500</td>\n",
       "      <td>PCR of barcodes from glycoprotein variants</td>\n",
       "      <td>fastq</td>\n",
       "      <td>A50_CC25102_11_S15_R1_001.fastq.gz</td>\n",
       "      <td>NaN</td>\n",
       "    </tr>\n",
       "    <tr>\n",
       "      <th>3</th>\n",
       "      <td>SAMN12345678</td>\n",
       "      <td>Lib-1_thaw-1_antibody_CC95.102_111.0_1</td>\n",
       "      <td>Full Spike glycoprotein DMS illumina barcode s...</td>\n",
       "      <td>AMPLICON</td>\n",
       "      <td>SYNTHETIC</td>\n",
       "      <td>PCR</td>\n",
       "      <td>single</td>\n",
       "      <td>ILLUMINA</td>\n",
       "      <td>Illumina HiSeq 2500</td>\n",
       "      <td>PCR of barcodes from glycoprotein variants</td>\n",
       "      <td>fastq</td>\n",
       "      <td>A50_CC25102_21_S17_R1_001.fastq.gz</td>\n",
       "      <td>NaN</td>\n",
       "    </tr>\n",
       "    <tr>\n",
       "      <th>4</th>\n",
       "      <td>SAMN12345678</td>\n",
       "      <td>Lib-1_thaw-1_antibody_CC95.102_222.0_1</td>\n",
       "      <td>Full Spike glycoprotein DMS illumina barcode s...</td>\n",
       "      <td>AMPLICON</td>\n",
       "      <td>SYNTHETIC</td>\n",
       "      <td>PCR</td>\n",
       "      <td>single</td>\n",
       "      <td>ILLUMINA</td>\n",
       "      <td>Illumina HiSeq 2500</td>\n",
       "      <td>PCR of barcodes from glycoprotein variants</td>\n",
       "      <td>fastq</td>\n",
       "      <td>A50_CC25102_31_S19_R1_001.fastq.gz</td>\n",
       "      <td>NaN</td>\n",
       "    </tr>\n",
       "  </tbody>\n",
       "</table>\n",
       "</div>"
      ],
      "text/plain": [
       "  biosample_accession                              library_ID  \\\n",
       "0        SAMN12345678   Lib-1_thaw-1_VSVG_control_none_none_1   \n",
       "1        SAMN12345678   Lib-1_thaw-1_VSVG_control_none_none_2   \n",
       "2        SAMN12345678   Lib-1_thaw-1_antibody_CC95.102_37.0_1   \n",
       "3        SAMN12345678  Lib-1_thaw-1_antibody_CC95.102_111.0_1   \n",
       "4        SAMN12345678  Lib-1_thaw-1_antibody_CC95.102_222.0_1   \n",
       "\n",
       "                                               title library_strategy  \\\n",
       "0  Full Spike glycoprotein DMS illumina barcode s...         AMPLICON   \n",
       "1  Full Spike glycoprotein DMS illumina barcode s...         AMPLICON   \n",
       "2  Full Spike glycoprotein DMS illumina barcode s...         AMPLICON   \n",
       "3  Full Spike glycoprotein DMS illumina barcode s...         AMPLICON   \n",
       "4  Full Spike glycoprotein DMS illumina barcode s...         AMPLICON   \n",
       "\n",
       "  library_source library_selection library_layout  platform  \\\n",
       "0      SYNTHETIC               PCR         single  ILLUMINA   \n",
       "1      SYNTHETIC               PCR         single  ILLUMINA   \n",
       "2      SYNTHETIC               PCR         single  ILLUMINA   \n",
       "3      SYNTHETIC               PCR         single  ILLUMINA   \n",
       "4      SYNTHETIC               PCR         single  ILLUMINA   \n",
       "\n",
       "      instrument_model                          design_description filetype  \\\n",
       "0  Illumina HiSeq 2500  PCR of barcodes from glycoprotein variants    fastq   \n",
       "1  Illumina HiSeq 2500  PCR of barcodes from glycoprotein variants    fastq   \n",
       "2  Illumina HiSeq 2500  PCR of barcodes from glycoprotein variants    fastq   \n",
       "3  Illumina HiSeq 2500  PCR of barcodes from glycoprotein variants    fastq   \n",
       "4  Illumina HiSeq 2500  PCR of barcodes from glycoprotein variants    fastq   \n",
       "\n",
       "                             filename filename2  \n",
       "0    VSVG_A50_rep1_S3_R1_001.fastq.gz       NaN  \n",
       "1    VSVG_A50_rep2_S4_R1_001.fastq.gz       NaN  \n",
       "2  A50_CC25102_11_S15_R1_001.fastq.gz       NaN  \n",
       "3  A50_CC25102_21_S17_R1_001.fastq.gz       NaN  \n",
       "4  A50_CC25102_31_S19_R1_001.fastq.gz       NaN  "
      ]
     },
     "execution_count": 36,
     "metadata": {},
     "output_type": "execute_result"
    }
   ],
   "source": [
    "sra_metadata.format_metadata_tsv(config, \"\", pacbio=False)\n",
    "\n",
    "if not all(map(os.path.isfile, [\"barcodes_SRA_metadata.tsv\", \"barcodes_fasta_files.csv\"])):\n",
    "    raise Exception(\"You're missing either one or both of the expected output files.\")\n",
    "\n",
    "barcodes_SRA_metadata = pd.read_csv(\"barcodes_SRA_metadata.tsv\", sep=\"\\t\")\n",
    "barcodes_SRA_metadata.head()"
   ]
  },
  {
   "cell_type": "markdown",
   "id": "869152c5",
   "metadata": {},
   "source": [
    "---\n",
    "## Upload the submission table\n",
    "\n",
    "Now return to the [SRA Submission Portal](https://submit.ncbi.nlm.nih.gov/subs/sra/) webpage, and if needed navigate back to your submission. You should still be at the **`BioSample Attributes`** step, and see a **`Choose file`** box to upload your `BioSampe` attributes. Use this click box to upload the `SRA_submission_spreedsheet.tsv` file that you just created in the step above. Then click **`Continue`**.\n",
    "\n",
    "After a little while, you should now get a page that asks you how you want to upload the files for this submission. Click the option for **`FTP or Aspera Command Line file preload`**.\n",
    "\n",
    "If you click on the **`+`** FTP upload instructions, you will see details. Add the `Username` and a`ccount folder` provided in these instructions to the [config.yml](config.yml) file as the values for the keys `ftp_username` and `ftp_account_folder` at the bottom of the file. Also add a value for the key `ftp_subfolder` that is meaningful for this particular submission under the `barcode_runs` key. Finally, put the FTP password as plain text in a file called `ftp_password.txt` which is not tracked in this repo."
   ]
  },
  {
   "cell_type": "code",
   "execution_count": 27,
   "id": "0225392f",
   "metadata": {},
   "outputs": [
    {
     "name": "stdout",
     "output_type": "stream",
     "text": [
      "\n",
      "ftp_username: subftp\n",
      "ftp_account_folder: uploads/something_or_another\n",
      "ftp_subfolder: omicron_BA1_barcodes\n",
      "\n",
      "ftp_password.txt Exists!\n"
     ]
    }
   ],
   "source": [
    "with open('config.yml') as f:\n",
    "    config = yaml.safe_load(f)\n",
    "    \n",
    "print(f\"\"\"\n",
    "ftp_username: {config['ftp_username']}\n",
    "ftp_account_folder: {config['ftp_account_folder']}\n",
    "ftp_subfolder: {config['barcode_runs']['ftp_subfolder']}\n",
    "\"\"\")\n",
    "\n",
    "if os.path.isfile('ftp_password.txt'):\n",
    "    print(\"ftp_password.txt Exists!\")\n",
    "else:\n",
    "    raise Exception(\"Make sure that ftp_password.txt exists in this directory.\")\n"
   ]
  },
  {
   "cell_type": "markdown",
   "id": "2d002607",
   "metadata": {},
   "source": [
    "---\n",
    "## Upload the sequencing data\n",
    "\n",
    "Now we need to upload the actual sequencing data. This is done by running the cells below. It first creates a very large `*.tar` file called `SRA_submission.tar` that contains all the `fastqs` specified in the Illumina Barcode metadata. \n",
    "\n",
    "**Run the cell below to make this file. This can take a bit.**"
   ]
  },
  {
   "cell_type": "code",
   "execution_count": 2,
   "id": "e08a9d44",
   "metadata": {},
   "outputs": [
    {
     "name": "stdout",
     "output_type": "stream",
     "text": [
      "Adding file 1 of 83 to barcode_SRA_submission.tar\n",
      "Adding file 10 of 83 to barcode_SRA_submission.tar\n",
      "Adding file 20 of 83 to barcode_SRA_submission.tar\n",
      "Adding file 30 of 83 to barcode_SRA_submission.tar\n",
      "Adding file 40 of 83 to barcode_SRA_submission.tar\n",
      "Adding file 50 of 83 to barcode_SRA_submission.tar\n",
      "Adding file 60 of 83 to barcode_SRA_submission.tar\n",
      "Adding file 70 of 83 to barcode_SRA_submission.tar\n",
      "Adding file 80 of 83 to barcode_SRA_submission.tar\n",
      "Adding file 83 of 83 to barcode_SRA_submission.tar\n",
      "Added all files to barcode_SRA_submission.tar\n",
      "\n",
      "The size of barcode_SRA_submission.tar is 39.6 GB\n",
      "\n",
      "barcode_SRA_submission.tar contains all 81 expected files.\n",
      "\n",
      "Finished preparing the tar file for upload.\n"
     ]
    }
   ],
   "source": [
    "barcodes_fastq_files = pd.read_csv(\"barcodes_fasta_files.csv\")\n",
    "ftp_upload.make_tar_file(barcodes_fastq_files, \"barcode_SRA_submission.tar\")"
   ]
  },
  {
   "cell_type": "markdown",
   "id": "50e17cac",
   "metadata": {},
   "source": [
    "If the size of the `*.tar` file is what you expect, **run the chunk below to use FTP to upload the file to the SRA.**"
   ]
  },
  {
   "cell_type": "code",
   "execution_count": null,
   "id": "23c21ad2",
   "metadata": {},
   "outputs": [],
   "source": [
    "upload_via_ftp(tar_path=\"barcode_SRA_submission.tar\",\n",
    "               ftp_username=config['ftp_username'],\n",
    "               ftp_account_folder=config['ftp_account_folder'],\n",
    "               ftp_subfolder=config['barcode_runs']['ftp_subfolder'],\n",
    "               ftp_address='ftp-private.ncbi.nlm.nih.gov',\n",
    "               ftp_password='ftp_password.txt'\n",
    "              )"
   ]
  },
  {
   "cell_type": "markdown",
   "id": "6e9c101d",
   "metadata": {},
   "source": [
    "Now that the transfer has finished, **manually log into the FTP site to see the file and use** `ls` **to see the size of what has been transferred to make sure that it worked correctly.**"
   ]
  },
  {
   "cell_type": "markdown",
   "id": "82a541f0",
   "metadata": {},
   "source": [
    "Finally, return to the SRA submission webpage for the reads, and check the blue Select preload folder box. Note that you need to wait about 10 minutes for the pre-load folder to become visible. The click to select the folder you created (this is the ftp_subfolder defined in upload_config.yaml) and click Use selected folder. Finally, check Autofinish submission box and hit Continue. You will get a warning that files are missing since you uploaded a `*.tar` archive; do not worry about this and just click Continue again. The webpage will then indicate it is extracting files from the `*.tar`, so wait for this to finish. It should then show that your submission is complete and just waiting for processing."
   ]
  },
  {
   "cell_type": "markdown",
   "id": "2c95b4f9",
   "metadata": {},
   "source": [
    "You then probably want to delete the `barcodes_SRA_submission.tar` file as it is very large."
   ]
  },
  {
   "cell_type": "markdown",
   "id": "50865237",
   "metadata": {},
   "source": [
    "<h2 style=color:red;>&#128721; Stop! If you don't also need to add PacBio sequencing, you're done! &#128721;</h2>"
   ]
  },
  {
   "cell_type": "markdown",
   "id": "83ff6beb",
   "metadata": {},
   "source": [
    "---\n",
    "**However, if you've made a new** `BioProject` **for this submission and haven't yet added you're PacBio sequencing linking variants to barcodes, go ahead and do this here.** \n",
    "\n",
    "The steps below are more-or-less identical to the steps above. **Make sure that you have a** `pacbio_runs` **key in the** [`config.yml`](config.yml) **file** with the correct information filled out. Click on the heading to expand the instructions as you need them."
   ]
  },
  {
   "cell_type": "markdown",
   "id": "55c2a360",
   "metadata": {},
   "source": [
    "---\n",
    "<details>\n",
    "\n",
    "<summary><h1> &#9758; Create the BioSample for your PacBio</h1></summary>\n",
    "\n",
    "Just like you did above, go to the [SRA Submission Portal](https://submit.ncbi.nlm.nih.gov/subs/) and login.\n",
    "\n",
    "Then under the **`Start a new submission`** banner, click `BioSample` to create a new BioSample. You are now on a page that has a blue **`New Submission`** button, which you should select. This will bring you to a page with some Submitter information; check that it is correct and then hit **`Continue`**. \n",
    "\n",
    "You will then be on the **`General Information`** page. Select when to release the submission to the public (*generally, immediately is OK*). Then click that you are uploading a `Single BioSample` and hit **`Continue`**.\n",
    "\n",
    "You will now be at the **`Sample Type`** page, and you have to select the package that best describes the submission. Click `Pathogen(?)`. Then click **`Continue`**. \n",
    "\n",
    "Now, you will enter the sample attributes. For the sample name, provide a short name that describes the sample, such as `omicron_BA1_lenti_dms_pacbio`. Also provide the rest of the information by editing the first section of the [`config.yml`](config.yml) in this directory. **Run the cell below to check what you've set and will need to add to the SRA.** \n",
    "    \n",
    "</details>"
   ]
  },
  {
   "cell_type": "code",
   "execution_count": 8,
   "id": "37ad7e27",
   "metadata": {},
   "outputs": [],
   "source": [
    "# Load in the config again and check that there is pacbio sequencing.\n",
    "# End the notebook here if there isn't.\n",
    "with open('config.yml') as f:\n",
    "    config = yaml.safe_load(f)\n",
    "\n",
    "if \"pacbio_runs\" not in config.keys(): \n",
    "    raise Exception(\"It looks like you don't have PacBio sequencing info in your config. You might be done.\")"
   ]
  },
  {
   "cell_type": "code",
   "execution_count": 9,
   "id": "d72eb545",
   "metadata": {},
   "outputs": [
    {
     "name": "stdout",
     "output_type": "stream",
     "text": [
      "\n",
      "Organism: severe acute respiratory syndrome coronavirus 2\n",
      "\n",
      "Strain: Omicron BA.1\n",
      "\n",
      "Isolation Source: plasmid\n",
      "\n",
      "Collection Data: 2022\n",
      "\n",
      "Geographic Location: USA\n",
      "\n",
      "Sample Type: plasmid\n",
      "\n"
     ]
    }
   ],
   "source": [
    "print(\n",
    "f\"\"\"\n",
    "Organism: {config['organism']}\\n\n",
    "Strain: {config['strain']}\\n\n",
    "Isolation Source: {config['isolation_source']}\\n\n",
    "Collection Data: {config['collection_date']}\\n\n",
    "Geographic Location: {config['geographic_location']}\\n\n",
    "Sample Type: {config['isolation_source']}\n",
    "\"\"\"\n",
    ")"
   ]
  },
  {
   "cell_type": "markdown",
   "id": "16d857f1",
   "metadata": {},
   "source": [
    "<details>\n",
    "    <summary><strong>Click to see details</strong></summary>\n",
    "\n",
    "Then hit **`Continue`**.\n",
    "\n",
    "You will now be on the page to specify the `BioProject`. You should either be adding to an existing BioProject, or have created a new on according to the instructions above. Enter the correct ID in the format of `PRJNAXXXXXX` as the **`Existing BioProject`** and hit **`Continue`**.\n",
    "\n",
    "Finally, add a sample title, such as `\"PacBio sequencing to link barcodes to variants for mutational antigenic profiling of Omicron BA.1 Spike with clinically relevant antibodies.\"` Then hit **`Continue`**, make sure everything looks correct, then hit **`Submit`**.\n",
    "\n",
    "After a brief bit of processing, the `BioSample` submission should show up, along with a sample accession that will be in the format of `SAMNXXXXXXX`. Add this sample accession to [`config.yml`](config.yml) as the value for the `accession` key **under the `pacbio_runs` key.**\n",
    "</details>"
   ]
  },
  {
   "cell_type": "code",
   "execution_count": 10,
   "id": "63792f91",
   "metadata": {},
   "outputs": [
    {
     "name": "stdout",
     "output_type": "stream",
     "text": [
      "The BioSample accession for these PacBio Variant Linking runs is: SAMN12345678\n",
      "The BioProject accession for these is: \n"
     ]
    }
   ],
   "source": [
    "with open('config.yml') as f:\n",
    "    config = yaml.safe_load(f)\n",
    "print(f\"The BioSample accession for these PacBio Variant Linking runs is: {config['barcode_runs']['accession']}\")\n",
    "print(f\"The BioProject accession for these is: {BioProject_ID}\")"
   ]
  },
  {
   "cell_type": "markdown",
   "id": "1567dd44",
   "metadata": {},
   "source": [
    "---\n",
    "<details>\n",
    "<summary><h2> &#9758; Upload the sequencing data</h2></summary>\n",
    "\n",
    "Go back to the [SRA Submission Portal](https://submit.ncbi.nlm.nih.gov/subs/) and login again. This time, under the **`Start a new submission banner`**, click **`Sequence Read Archive`** to upload the actual sequencing data.\n",
    "\n",
    "You are now on a page with a **`New submission`** button, which you should click. Check that the submitter information is correct, then click **`Continue`**.\n",
    "\n",
    "You will now be at the **`General Information`** page. We are adding to an existing `BioProject`, so enter the correct `BioProject` accession as the **`Existing BioProject`**. Then for the question of whether you already registered a `BioSample`, also select yes. Then select a Release Date depending on whether you want to release the results immediately (*usually fine*) or at some future date. Then click **`Continue`**.\n",
    "\n",
    "You will now be at a page that asks how you want to provide the `SRA Metadata`. Click to Upload a file. The next section describes how to create this table.\n",
    "</details>"
   ]
  },
  {
   "cell_type": "markdown",
   "id": "0bf1e29c",
   "metadata": {},
   "source": [
    "---\n",
    "<details>\n",
    "\n",
    "<summary><h2>&#9758; Create SRA metadata submission table</h2></summary>\n",
    "    \n",
    "To create the SRA metadata submission table for the PacBio runs, you'll edit the values under the `pacbio_runs` key in the [`config.yml`](config.yml) file in this directory. \n",
    "\n",
    "For the key `pacbio_runs` >> `file_path`, add the path to a `*.csv` file with **only** the barcode runs that you're going to submit to the SRA for *this BioSample*. This will be named something like `PacBio_runs.csv`.\n",
    "\n",
    "After you've edited the [`config.yml`](config.yml) file, run the cell below to double-check that the values are correct. \n",
    "</details>"
   ]
  },
  {
   "cell_type": "code",
   "execution_count": 12,
   "id": "f242940e",
   "metadata": {},
   "outputs": [
    {
     "name": "stdout",
     "output_type": "stream",
     "text": [
      "file_path: ../data/PacBio_runs.csv\n",
      " accession: SAMN12341234\n",
      " title_prefix: Full Spike glycoprotein PacBio CCSs linking variants to barcodes for library\n",
      " description: PacBio CCSs linking variants to barcodes\n",
      " strategy: AMPLICON\n",
      " source: SYNTHETIC\n",
      " selection: Restriction Digest\n",
      " layout: single\n",
      " platform: PACBIO_SMRT\n",
      " model: Sequel\n",
      "\n"
     ]
    }
   ],
   "source": [
    "with open('config.yml') as f:\n",
    "    config = yaml.safe_load(f)\n",
    "\n",
    "print(*[f\"{k}: {v}\\n\" for k,v in config['pacbio_runs'].items() if k != \"ftp_subfolder\"])"
   ]
  },
  {
   "cell_type": "markdown",
   "id": "f397bae2",
   "metadata": {},
   "source": [
    "If these values are correct, run the cell below to make the `pacbio_SRA_metadata.tsv` file for the runs that you're including in this `BioSample` submission and save a file containing the paths to the files for upload.\n",
    "\n",
    "**Check that the table looks like you expect it to!**"
   ]
  },
  {
   "cell_type": "code",
   "execution_count": 13,
   "id": "e545d557",
   "metadata": {},
   "outputs": [
    {
     "data": {
      "text/html": [
       "<div>\n",
       "<style scoped>\n",
       "    .dataframe tbody tr th:only-of-type {\n",
       "        vertical-align: middle;\n",
       "    }\n",
       "\n",
       "    .dataframe tbody tr th {\n",
       "        vertical-align: top;\n",
       "    }\n",
       "\n",
       "    .dataframe thead th {\n",
       "        text-align: right;\n",
       "    }\n",
       "</style>\n",
       "<table border=\"1\" class=\"dataframe\">\n",
       "  <thead>\n",
       "    <tr style=\"text-align: right;\">\n",
       "      <th></th>\n",
       "      <th>biosample_accession</th>\n",
       "      <th>library_ID</th>\n",
       "      <th>title</th>\n",
       "      <th>library_strategy</th>\n",
       "      <th>library_source</th>\n",
       "      <th>library_selection</th>\n",
       "      <th>library_layout</th>\n",
       "      <th>platform</th>\n",
       "      <th>instrument_model</th>\n",
       "      <th>design_description</th>\n",
       "      <th>filetype</th>\n",
       "    </tr>\n",
       "  </thead>\n",
       "  <tbody>\n",
       "    <tr>\n",
       "      <th>0</th>\n",
       "      <td>SAMN12341234</td>\n",
       "      <td>Lib-1_220531_PacBio_CCSs</td>\n",
       "      <td>Full Spike glycoprotein PacBio CCSs linking va...</td>\n",
       "      <td>AMPLICON</td>\n",
       "      <td>SYNTHETIC</td>\n",
       "      <td>Restriction Digest</td>\n",
       "      <td>single</td>\n",
       "      <td>PACBIO_SMRT</td>\n",
       "      <td>Sequel</td>\n",
       "      <td>PacBio CCSs linking variants to barcodes</td>\n",
       "      <td>fastq</td>\n",
       "    </tr>\n",
       "    <tr>\n",
       "      <th>1</th>\n",
       "      <td>SAMN12341234</td>\n",
       "      <td>Lib-1_220710_PacBio_CCSs</td>\n",
       "      <td>Full Spike glycoprotein PacBio CCSs linking va...</td>\n",
       "      <td>AMPLICON</td>\n",
       "      <td>SYNTHETIC</td>\n",
       "      <td>Restriction Digest</td>\n",
       "      <td>single</td>\n",
       "      <td>PACBIO_SMRT</td>\n",
       "      <td>Sequel</td>\n",
       "      <td>PacBio CCSs linking variants to barcodes</td>\n",
       "      <td>fastq</td>\n",
       "    </tr>\n",
       "    <tr>\n",
       "      <th>2</th>\n",
       "      <td>SAMN12341234</td>\n",
       "      <td>Lib-1_220711_PacBio_CCSs</td>\n",
       "      <td>Full Spike glycoprotein PacBio CCSs linking va...</td>\n",
       "      <td>AMPLICON</td>\n",
       "      <td>SYNTHETIC</td>\n",
       "      <td>Restriction Digest</td>\n",
       "      <td>single</td>\n",
       "      <td>PACBIO_SMRT</td>\n",
       "      <td>Sequel</td>\n",
       "      <td>PacBio CCSs linking variants to barcodes</td>\n",
       "      <td>fastq</td>\n",
       "    </tr>\n",
       "    <tr>\n",
       "      <th>3</th>\n",
       "      <td>SAMN12341234</td>\n",
       "      <td>Lib-2_220629_PacBio_CCSs</td>\n",
       "      <td>Full Spike glycoprotein PacBio CCSs linking va...</td>\n",
       "      <td>AMPLICON</td>\n",
       "      <td>SYNTHETIC</td>\n",
       "      <td>Restriction Digest</td>\n",
       "      <td>single</td>\n",
       "      <td>PACBIO_SMRT</td>\n",
       "      <td>Sequel</td>\n",
       "      <td>PacBio CCSs linking variants to barcodes</td>\n",
       "      <td>fastq</td>\n",
       "    </tr>\n",
       "    <tr>\n",
       "      <th>4</th>\n",
       "      <td>SAMN12341234</td>\n",
       "      <td>Lib-3_220629_PacBio_CCSs</td>\n",
       "      <td>Full Spike glycoprotein PacBio CCSs linking va...</td>\n",
       "      <td>AMPLICON</td>\n",
       "      <td>SYNTHETIC</td>\n",
       "      <td>Restriction Digest</td>\n",
       "      <td>single</td>\n",
       "      <td>PACBIO_SMRT</td>\n",
       "      <td>Sequel</td>\n",
       "      <td>PacBio CCSs linking variants to barcodes</td>\n",
       "      <td>fastq</td>\n",
       "    </tr>\n",
       "  </tbody>\n",
       "</table>\n",
       "</div>"
      ],
      "text/plain": [
       "  biosample_accession                library_ID  \\\n",
       "0        SAMN12341234  Lib-1_220531_PacBio_CCSs   \n",
       "1        SAMN12341234  Lib-1_220710_PacBio_CCSs   \n",
       "2        SAMN12341234  Lib-1_220711_PacBio_CCSs   \n",
       "3        SAMN12341234  Lib-2_220629_PacBio_CCSs   \n",
       "4        SAMN12341234  Lib-3_220629_PacBio_CCSs   \n",
       "\n",
       "                                               title library_strategy  \\\n",
       "0  Full Spike glycoprotein PacBio CCSs linking va...         AMPLICON   \n",
       "1  Full Spike glycoprotein PacBio CCSs linking va...         AMPLICON   \n",
       "2  Full Spike glycoprotein PacBio CCSs linking va...         AMPLICON   \n",
       "3  Full Spike glycoprotein PacBio CCSs linking va...         AMPLICON   \n",
       "4  Full Spike glycoprotein PacBio CCSs linking va...         AMPLICON   \n",
       "\n",
       "  library_source   library_selection library_layout     platform  \\\n",
       "0      SYNTHETIC  Restriction Digest         single  PACBIO_SMRT   \n",
       "1      SYNTHETIC  Restriction Digest         single  PACBIO_SMRT   \n",
       "2      SYNTHETIC  Restriction Digest         single  PACBIO_SMRT   \n",
       "3      SYNTHETIC  Restriction Digest         single  PACBIO_SMRT   \n",
       "4      SYNTHETIC  Restriction Digest         single  PACBIO_SMRT   \n",
       "\n",
       "  instrument_model                        design_description filetype  \n",
       "0           Sequel  PacBio CCSs linking variants to barcodes    fastq  \n",
       "1           Sequel  PacBio CCSs linking variants to barcodes    fastq  \n",
       "2           Sequel  PacBio CCSs linking variants to barcodes    fastq  \n",
       "3           Sequel  PacBio CCSs linking variants to barcodes    fastq  \n",
       "4           Sequel  PacBio CCSs linking variants to barcodes    fastq  "
      ]
     },
     "execution_count": 13,
     "metadata": {},
     "output_type": "execute_result"
    }
   ],
   "source": [
    "sra_metadata.format_metadata_tsv(config, \"\", pacbio=True)\n",
    "\n",
    "if not all(map(os.path.isfile, [\"pacbio_SRA_metadata.tsv\", \"pacbio_fasta_files.csv\"])):\n",
    "    raise Exception(\"You're missing either one or both of the expected output files.\")\n",
    "\n",
    "pacbio_SRA_metadata = pd.read_csv(\"pacbio_SRA_metadata.tsv\", sep=\"\\t\")\n",
    "pacbio_SRA_metadata.head()"
   ]
  },
  {
   "cell_type": "markdown",
   "id": "61d7d562",
   "metadata": {},
   "source": [
    "---\n",
    "<details>\n",
    "    <summary><h2> &#9758; Upload the submission table </h2></summary>\n",
    "\n",
    "Now return to the [SRA Submission Portal](https://submit.ncbi.nlm.nih.gov/subs/sra/) webpage, and if needed navigate back to your submission. You should still be at the **`BioSample Attributes`** step, and see a **`Choose file`** box to upload your `BioSampe` attributes. Use this click box to upload the `pacbio_SRA_metadata.tsv` file that you just created in the step above. Then click **`Continue`**.\n",
    "\n",
    "After a little while, you should now get a page that asks you how you want to upload the files for this submission. Click the option for **`FTP or Aspera Command Line file preload`**.\n",
    "\n",
    "If you click on the **`+`** FTP upload instructions, you will see details. Add the `Username` and a`ccount folder` provided in these instructions to the [config.yml](config.yml) file as the values for the keys `ftp_username` and `ftp_account_folder` at the bottom of the file. Also add a value for the key `ftp_subfolder` that is meaningful for this particular submission under the `pacbio_runs` key. Finally, put the FTP password as plain text in a file called `ftp_password.txt` which is not tracked in this repo.\n",
    "</details>"
   ]
  },
  {
   "cell_type": "code",
   "execution_count": 14,
   "id": "98146840",
   "metadata": {},
   "outputs": [
    {
     "name": "stdout",
     "output_type": "stream",
     "text": [
      "\n",
      "ftp_username: subftp\n",
      "ftp_account_folder: uploads/something_or_another\n",
      "ftp_subfolder: omicron_BA1_pacbio\n",
      "\n",
      "ftp_password.txt Exists!\n"
     ]
    }
   ],
   "source": [
    "with open('config.yml') as f:\n",
    "    config = yaml.safe_load(f)\n",
    "    \n",
    "print(f\"\"\"\n",
    "ftp_username: {config['ftp_username']}\n",
    "ftp_account_folder: {config['ftp_account_folder']}\n",
    "ftp_subfolder: {config['pacbio_runs']['ftp_subfolder']}\n",
    "\"\"\")\n",
    "\n",
    "if os.path.isfile('ftp_password.txt'):\n",
    "    print(\"ftp_password.txt Exists!\")\n",
    "else:\n",
    "    raise Exception(\"Make sure that ftp_password.txt exists in this directory.\")\n"
   ]
  },
  {
   "cell_type": "markdown",
   "id": "03280bd1",
   "metadata": {},
   "source": [
    "---\n",
    "<details>\n",
    "    <summary><h2> &#9758; Upload the sequencing data</h2></summary>\n",
    "\n",
    "Now we need to upload the actual sequencing data. This is done by running the cells below. It first creates a very large `*.tar` file called `SRA_submission.tar` that contains all the `fastqs` specified in the Illumina Barcode metadata. \n",
    "\n",
    "**Run the cell below to make this file. This can take a bit.**\n",
    "</details>"
   ]
  },
  {
   "cell_type": "code",
   "execution_count": 15,
   "id": "bd5b4cb0",
   "metadata": {},
   "outputs": [
    {
     "name": "stdout",
     "output_type": "stream",
     "text": [
      "Adding file 1 of 5 to pacbio_SRA_submission.tar\n",
      "Adding file 5 of 5 to pacbio_SRA_submission.tar\n",
      "Added all files to pacbio_SRA_submission.tar\n",
      "\n",
      "The size of pacbio_SRA_submission.tar is 18.2 GB\n",
      "\n",
      "pacbio_SRA_submission.tar contains all 5 expected files.\n",
      "\n",
      "Finished preparing the tar file for upload.\n"
     ]
    }
   ],
   "source": [
    "pacbio_fastq_files = pd.read_csv(\"pacbio_fasta_files.csv\")\n",
    "ftp_upload.make_tar_file(pacbio_fastq_files, \"pacbio_SRA_submission.tar\")"
   ]
  },
  {
   "cell_type": "markdown",
   "id": "b4c5c8b9",
   "metadata": {},
   "source": [
    "If the size of the `*.tar` file is what you expect, **run the chunk below to use FTP to upload the file to the SRA.**"
   ]
  },
  {
   "cell_type": "code",
   "execution_count": null,
   "id": "56957852",
   "metadata": {},
   "outputs": [],
   "source": [
    "upload_via_ftp(tar_path=\"pacbio_SRA_submission.tar\",\n",
    "               ftp_username=config['ftp_username'],\n",
    "               ftp_account_folder=config['ftp_account_folder'],\n",
    "               ftp_subfolder=config['pacbio_runs']['ftp_subfolder'],\n",
    "               ftp_address='ftp-private.ncbi.nlm.nih.gov',\n",
    "               ftp_password='ftp_password.txt'\n",
    "              ) "
   ]
  },
  {
   "cell_type": "markdown",
   "id": "4e7a0502",
   "metadata": {},
   "source": [
    "Finally, return to the SRA submission webpage for the reads, and check the blue Select preload folder box. Note that you need to wait about 10 minutes for the pre-load folder to become visible. The click to select the folder you created (this is the ftp_subfolder defined in upload_config.yaml) and click Use selected folder. Finally, check Autofinish submission box and hit Continue. You will get a warning that files are missing since you uploaded a `*.tar` archive; do not worry about this and just click Continue again. The webpage will then indicate it is extracting files from the `*.tar`, so wait for this to finish. It should then show that your submission is complete and just waiting for processing."
   ]
  },
  {
   "cell_type": "markdown",
   "id": "6bdb3a62",
   "metadata": {},
   "source": [
    "<h2 style=color:green;>&#127881; Congrats, you're done! &#127881;</h2>"
   ]
  }
 ],
 "metadata": {
  "kernelspec": {
   "display_name": "Python 3 (ipykernel)",
   "language": "python",
   "name": "python3"
  },
  "language_info": {
   "codemirror_mode": {
    "name": "ipython",
    "version": 3
   },
   "file_extension": ".py",
   "mimetype": "text/x-python",
   "name": "python",
   "nbconvert_exporter": "python",
   "pygments_lexer": "ipython3",
   "version": "3.7.6"
  }
 },
 "nbformat": 4,
 "nbformat_minor": 5
}
